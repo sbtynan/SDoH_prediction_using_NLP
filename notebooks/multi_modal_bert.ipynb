{
 "cells": [
  {
   "cell_type": "markdown",
   "metadata": {
    "id": "PGnlRWvkY-2c"
   },
   "source": [
    "# SDoH prediction with multi-modal BERT\n"
   ]
  },
  {
   "cell_type": "markdown",
   "metadata": {
    "id": "wmj22-TcZMef"
   },
   "source": [
    "## Setup\n",
    "\n",
    "We'll need [the Transformers library](https://huggingface.co/transformers/) by Hugging Face:"
   ]
  },
  {
   "cell_type": "code",
   "execution_count": 30,
   "metadata": {
    "colab": {
     "base_uri": "https://localhost:8080/",
     "height": 34
    },
    "id": "w68CZpOwFoly",
    "outputId": "9c1a0321-1650-4224-cf9c-3c8dc8661ed3"
   },
   "outputs": [
    {
     "data": {
      "text/plain": [
       "device(type='cuda', index=0)"
      ]
     },
     "execution_count": 30,
     "metadata": {},
     "output_type": "execute_result"
    }
   ],
   "source": [
    "\n",
    "import transformers\n",
    "from transformers import BertModel, BertTokenizer, AdamW, get_linear_schedule_with_warmup\n",
    "import torch\n",
    "\n",
    "import numpy as np\n",
    "import pandas as pd\n",
    "import seaborn as sns\n",
    "from pylab import rcParams\n",
    "import matplotlib.pyplot as plt\n",
    "from matplotlib import rc\n",
    "from sklearn.model_selection import train_test_split\n",
    "from sklearn.metrics import confusion_matrix, classification_report\n",
    "from collections import defaultdict\n",
    "from textwrap import wrap\n",
    "\n",
    "from torch import nn, optim\n",
    "from torch.utils.data import Dataset, DataLoader\n",
    "import torch.nn.functional as F\n",
    "\n",
    "from tqdm.notebook import tqdm\n",
    "\n",
    "#updated imports for multimodal input \n",
    "\n",
    "from dataclasses import dataclass, field\n",
    "import json\n",
    "import logging\n",
    "import os\n",
    "from typing import Optional\n",
    "\n",
    "from transformers import (\n",
    "    AutoTokenizer,\n",
    "    AutoConfig,\n",
    "    Trainer,\n",
    "    EvalPrediction,\n",
    "    set_seed\n",
    ")\n",
    "from transformers.training_args import TrainingArguments\n",
    "\n",
    "from multimodal_transformers.data import load_data_from_folder\n",
    "from multimodal_transformers.model import TabularConfig\n",
    "from multimodal_transformers.model import BertWithTabular#AutoModelWithTabular\n",
    "\n",
    "#done\n",
    "\n",
    "%matplotlib inline\n",
    "%config InlineBackend.figure_format='retina'\n",
    "\n",
    "sns.set(style='whitegrid', palette='muted', font_scale=1.2)\n",
    "\n",
    "HAPPY_COLORS_PALETTE = [\"#01BEFE\", \"#FFDD00\", \"#FF7D00\", \"#FF006D\", \"#ADFF02\", \"#8F00FF\"]\n",
    "\n",
    "sns.set_palette(sns.color_palette(HAPPY_COLORS_PALETTE))\n",
    "\n",
    "rcParams['figure.figsize'] = 12, 8\n",
    "\n",
    "RANDOM_SEED = 42\n",
    "np.random.seed(RANDOM_SEED)\n",
    "torch.manual_seed(RANDOM_SEED)\n",
    "\n",
    "device = torch.device(\"cuda:0\" if torch.cuda.is_available() else \"cpu\")\n",
    "device"
   ]
  },
  {
   "cell_type": "markdown",
   "metadata": {
    "id": "ufzPdoTtNikq"
   },
   "source": [
    "## Data Exploration\n"
   ]
  },
  {
   "cell_type": "code",
   "execution_count": 31,
   "metadata": {
    "colab": {
     "base_uri": "https://localhost:8080/",
     "height": 632
    },
    "id": "mUKLyKc7I6Qp",
    "outputId": "81441fd4-74b2-4b5b-b4f1-76c41cb6ce6a"
   },
   "outputs": [],
   "source": [
    "#set data path\n",
    "va_path = \"/home/gridsan/stynan/sdoh_model/sdoh_dataset_processed.xlsx\" \n",
    "\n",
    "df = pd.read_excel(va_path)"
   ]
  },
  {
   "cell_type": "code",
   "execution_count": 32,
   "metadata": {},
   "outputs": [],
   "source": [
    "#make list of texts and labels \n",
    "df = df[df[\"edu_level_composite\"] != -1] #remove all rows that have missing values or unknowns in edu level \n",
    "df.edu_level_composite -= 1\n",
    "df = df[df[\"open_response\"].notna()]\n",
    "df.fillna(-1, inplace = True)\n",
    "\n",
    "df = df.iloc[1:] #removing the first row since it is just not necessary"
   ]
  },
  {
   "cell_type": "code",
   "execution_count": 33,
   "metadata": {
    "colab": {
     "base_uri": "https://localhost:8080/",
     "height": 34
    },
    "id": "dB2jE6am7Dpo",
    "outputId": "19acca28-2336-43f1-b714-29d993bc114c"
   },
   "outputs": [
    {
     "data": {
      "text/plain": [
       "(6834, 107)"
      ]
     },
     "execution_count": 33,
     "metadata": {},
     "output_type": "execute_result"
    }
   ],
   "source": [
    "df.shape"
   ]
  },
  {
   "cell_type": "code",
   "execution_count": 34,
   "metadata": {
    "id": "E7Mj-0ne--5t"
   },
   "outputs": [],
   "source": [
    "PRE_TRAINED_MODEL_NAME = '/home/gridsan/stynan/sdoh_model/bert-base-uncased'"
   ]
  },
  {
   "cell_type": "code",
   "execution_count": 35,
   "metadata": {},
   "outputs": [],
   "source": [
    "@dataclass\n",
    "class ModelArguments:\n",
    "  \"\"\"\n",
    "  Arguments pertaining to which model/config/tokenizer we are going to fine-tune from.\n",
    "  \"\"\"\n",
    "\n",
    "  model_name_or_path: str = field(\n",
    "      metadata={\"help\": \"Path to pretrained model or model identifier from huggingface.co/models\"}\n",
    "  )\n",
    "  config_name: Optional[str] = field(\n",
    "      default=None, metadata={\"help\": \"Pretrained config name or path if not the same as model_name\"}\n",
    "  )\n",
    "  tokenizer_name: Optional[str] = field(\n",
    "      default=None, metadata={\"help\": \"Pretrained tokenizer name or path if not the same as model_name\"}\n",
    "  )\n",
    "  cache_dir: Optional[str] = field(\n",
    "      default=None, metadata={\"help\": \"Where do you want to store the pretrained models downloaded from s3\"}\n",
    "  )\n",
    "\n",
    "    \n",
    "@dataclass\n",
    "class MultimodalDataTrainingArguments:\n",
    "  \"\"\"\n",
    "  Arguments pertaining to how we combine tabular features\n",
    "  Using `HfArgumentParser` we can turn this class\n",
    "  into argparse arguments to be able to specify them on\n",
    "  the command line.\n",
    "  \"\"\"\n",
    "\n",
    "  data_path: str = field(metadata={\n",
    "                            'help': 'the path to the csv file containing the dataset'\n",
    "                        })\n",
    "  column_info_path: str = field(\n",
    "      default=None,\n",
    "      metadata={\n",
    "          'help': 'the path to the json file detailing which columns are text, categorical, numerical, and the label'\n",
    "  })\n",
    "\n",
    "  column_info: dict = field(\n",
    "      default=None,\n",
    "      metadata={\n",
    "          'help': 'a dict referencing the text, categorical, numerical, and label columns'\n",
    "                  'its keys are text_cols, num_cols, cat_cols, and label_col'\n",
    "  })\n",
    "\n",
    "  categorical_encode_type: str = field(default='ohe',\n",
    "                                        metadata={\n",
    "                                            'help': 'sklearn encoder to use for categorical data',\n",
    "                                            'choices': ['ohe', 'binary', 'label', 'none']\n",
    "                                        })\n",
    "\n",
    "  numerical_transformer_method: str = field(default='yeo_johnson',\n",
    "                                            metadata={\n",
    "                                                'help': 'sklearn numerical transformer to preprocess numerical data',\n",
    "                                                'choices': ['yeo_johnson', 'box_cox', 'quantile_normal', 'none']\n",
    "                                            })\n",
    "  task: str = field(default=\"classification\",\n",
    "                    metadata={\n",
    "                        \"help\": \"The downstream training task\",\n",
    "                        \"choices\": [\"classification\", \"regression\"]\n",
    "                    })\n",
    "\n",
    "  mlp_division: int = field(default=4,\n",
    "                            metadata={\n",
    "                                'help': 'the ratio of the number of '\n",
    "                                        'hidden dims in a current layer to the next MLP layer'\n",
    "                            })\n",
    "  combine_feat_method: str = field(default='individual_mlps_on_cat_and_numerical_feats_then_concat',\n",
    "                                    metadata={\n",
    "                                        'help': 'method to combine categorical and numerical features, '\n",
    "                                                'see README for all the method'\n",
    "                                    })\n",
    "  mlp_dropout: float = field(default=0.1,\n",
    "                              metadata={\n",
    "                                'help': 'dropout ratio used for MLP layers'\n",
    "                              })\n",
    "  numerical_bn: bool = field(default=True,\n",
    "                              metadata={\n",
    "                                  'help': 'whether to use batchnorm on numerical features'\n",
    "                              })\n",
    "  use_simple_classifier: str = field(default=True,\n",
    "                                      metadata={\n",
    "                                          'help': 'whether to use single layer or MLP as final classifier'\n",
    "                                      })\n",
    "  mlp_act: str = field(default='relu',\n",
    "                        metadata={\n",
    "                            'help': 'the activation function to use for finetuning layers',\n",
    "                            'choices': ['relu', 'prelu', 'sigmoid', 'tanh', 'linear']\n",
    "                        })\n",
    "  gating_beta: float = field(default=0.2,\n",
    "                              metadata={\n",
    "                                  'help': \"the beta hyperparameters used for gating tabular data \"\n",
    "                                          \"see https://www.aclweb.org/anthology/2020.acl-main.214.pdf\"\n",
    "                              })\n",
    "\n",
    "  def __post_init__(self):\n",
    "      assert self.column_info != self.column_info_path\n",
    "      if self.column_info is None and self.column_info_path:\n",
    "          with open(self.column_info_path, 'r') as f:\n",
    "              self.column_info = json.load(f)"
   ]
  },
  {
   "cell_type": "markdown",
   "metadata": {
    "id": "x2uwsvCYqDJK"
   },
   "source": [
    "The tokenizer is doing most of the heavy lifting for us. We also return the review texts, so it'll be easier to evaluate the predictions from our model. Let's split the data:"
   ]
  },
  {
   "cell_type": "code",
   "execution_count": 44,
   "metadata": {},
   "outputs": [],
   "source": [
    "text_cols = [\"open_response\"]\n",
    "\n",
    "cat_cols = ['site_x',\n",
    "            'gs_text34_x',\n",
    "            'g1_05', \n",
    "            'gs_comorbid1',\n",
    "            'gs_comorbid2', \n",
    "            'g1_06m', \n",
    "            'g1_06y', \n",
    "            'g1_07a', \n",
    "            'g2_01',\n",
    "            'g4_02',\n",
    "            'g4_03a',\n",
    "            'g4_05',\n",
    "            'g4_08',\n",
    "            'g5_05',\n",
    "            'a1_01_2','a1_01_3','a1_01_4','a1_01_5','a1_01_6','a1_01_7','a1_01_8','a1_01_9','a1_01_10','a1_01_11','a1_01_12','a1_01_13','a1_01_14',\n",
    "            'a3_10',\n",
    "            'a3_17',\n",
    "            'a3_18',\n",
    "            'a4_01',\n",
    "            'a4_02_1',\n",
    "            'a4_02_2',\n",
    "            'a4_02_3',\n",
    "            'a4_02_4',\n",
    "            'a4_02_5a',\n",
    "             'a4_02_5a',\n",
    "           'a4_02_5b',\n",
    "            'a4_03',\n",
    "            'a4_04',\n",
    "            'a4_05',\n",
    "           'a4_05',\n",
    "            'a4_06',\n",
    "            'a5_02',\n",
    "            'a5_03',\n",
    "            'a6_01',\n",
    "            'a6_02_1',\n",
    "            'a6_02_2',\n",
    "            'a6_02_3',\n",
    "            'a6_02_4',\n",
    "            'a6_02_5',\n",
    "            'a6_02_6',\n",
    "            'a6_02_7',\n",
    "            'a6_02_8',\n",
    "            'a6_02_9',\n",
    "            'a6_02_10',\n",
    "            'a6_02_11',\t\n",
    "            'a6_02_12a',\n",
    "            'a6_02_13',\t\n",
    "            'a6_02_14',\t\n",
    "            'a6_02_15',\n",
    "            'a6_04',\n",
    "            'a6_05',\n",
    "            'a6_09',\n",
    "            'a6_10'\n",
    "           ]\n",
    "numerical_cols = ['age_years', 'total_#_hospitals', 'Interview Attemps', 'g4_04', 'g4_07', 'a2_01','a3_11','a5_04' ]\n",
    "\n",
    "column_info_dict = {\n",
    "    'text_cols': text_cols,\n",
    "    'num_cols': numerical_cols,\n",
    "    'cat_cols': cat_cols,\n",
    "    'label_col': \"edu_level_composite\",\n",
    "    'label_list': [1,2,3,4]\n",
    "}\n",
    "\n",
    "\n",
    "model_args = ModelArguments(\n",
    "    model_name_or_path='/home/gridsan/stynan/sdoh_model/bert-base-uncased'\n",
    ")\n",
    "\n",
    "data_args = MultimodalDataTrainingArguments(\n",
    "    data_path='/home/gridsan/stynan/sdoh_model/',\n",
    "    combine_feat_method='gating_on_cat_and_num_feats_then_sum',\n",
    "    column_info=column_info_dict,\n",
    "    task='classification'\n",
    ")\n",
    "\n",
    "training_args = TrainingArguments(\n",
    "    output_dir=\"./logs/model_name\",\n",
    "    logging_dir=\"./logs/runs\",\n",
    "    overwrite_output_dir=True,\n",
    "    do_train=True,\n",
    "    do_eval=True,\n",
    "    do_predict = True,\n",
    "    per_device_train_batch_size=16,\n",
    "    num_train_epochs=20,\n",
    "    evaluate_during_training=True,\n",
    "    logging_steps=25,\n",
    "    eval_steps=250\n",
    ")\n",
    "\n",
    "set_seed(training_args.seed)"
   ]
  },
  {
   "cell_type": "code",
   "execution_count": 45,
   "metadata": {
    "id": "H3AfJSZ8NNLF"
   },
   "outputs": [
    {
     "name": "stdout",
     "output_type": "stream",
     "text": [
      "Specified tokenizer:  /home/gridsan/stynan/sdoh_model/bert-base-uncased\n"
     ]
    }
   ],
   "source": [
    "#tokenizer = BertTokenizer.from_pretrained(PRE_TRAINED_MODEL_NAME)\n",
    "\n",
    "tokenizer_path_or_name = model_args.tokenizer_name if model_args.tokenizer_name else model_args.model_name_or_path\n",
    "print('Specified tokenizer: ', tokenizer_path_or_name)\n",
    "tokenizer = BertTokenizer.from_pretrained(\n",
    "    tokenizer_path_or_name,\n",
    "    cache_dir=model_args.cache_dir,\n",
    "    model_max_length=512\n",
    ")"
   ]
  },
  {
   "cell_type": "code",
   "execution_count": 46,
   "metadata": {
    "id": "B-vWzoo81dvO"
   },
   "outputs": [],
   "source": [
    "df_train, df_test = train_test_split(df, test_size=0.1, random_state=RANDOM_SEED)\n",
    "df_val, df_test = train_test_split(df, test_size=0.5, random_state=RANDOM_SEED)"
   ]
  },
  {
   "cell_type": "code",
   "execution_count": 47,
   "metadata": {},
   "outputs": [],
   "source": [
    "df_train.to_csv('train.csv')\n",
    "df_val.to_csv('val.csv')\n",
    "df_test.to_csv('test.csv')"
   ]
  },
  {
   "cell_type": "code",
   "execution_count": 48,
   "metadata": {},
   "outputs": [
    {
     "name": "stderr",
     "output_type": "stream",
     "text": [
      "/home/gridsan/stynan/.local/lib/python3.8/site-packages/multimodal_transformers/data/data_utils.py:159: SettingWithCopyWarning: \n",
      "A value is trying to be set on a copy of a slice from a DataFrame.\n",
      "Try using .loc[row_indexer,col_indexer] = value instead\n",
      "\n",
      "See the caveats in the documentation: https://pandas.pydata.org/pandas-docs/stable/user_guide/indexing.html#returning-a-view-versus-a-copy\n",
      "  df[num_cols] = df[num_cols].fillna(df[num_cols].median())\n",
      "/home/gridsan/stynan/.local/lib/python3.8/site-packages/multimodal_transformers/data/data_utils.py:159: SettingWithCopyWarning: \n",
      "A value is trying to be set on a copy of a slice from a DataFrame.\n",
      "Try using .loc[row_indexer,col_indexer] = value instead\n",
      "\n",
      "See the caveats in the documentation: https://pandas.pydata.org/pandas-docs/stable/user_guide/indexing.html#returning-a-view-versus-a-copy\n",
      "  df[num_cols] = df[num_cols].fillna(df[num_cols].median())\n",
      "/home/gridsan/stynan/.local/lib/python3.8/site-packages/multimodal_transformers/data/data_utils.py:159: SettingWithCopyWarning: \n",
      "A value is trying to be set on a copy of a slice from a DataFrame.\n",
      "Try using .loc[row_indexer,col_indexer] = value instead\n",
      "\n",
      "See the caveats in the documentation: https://pandas.pydata.org/pandas-docs/stable/user_guide/indexing.html#returning-a-view-versus-a-copy\n",
      "  df[num_cols] = df[num_cols].fillna(df[num_cols].median())\n",
      "/home/gridsan/stynan/.local/lib/python3.8/site-packages/multimodal_transformers/data/data_utils.py:159: SettingWithCopyWarning: \n",
      "A value is trying to be set on a copy of a slice from a DataFrame.\n",
      "Try using .loc[row_indexer,col_indexer] = value instead\n",
      "\n",
      "See the caveats in the documentation: https://pandas.pydata.org/pandas-docs/stable/user_guide/indexing.html#returning-a-view-versus-a-copy\n",
      "  df[num_cols] = df[num_cols].fillna(df[num_cols].median())\n",
      "/home/gridsan/stynan/.local/lib/python3.8/site-packages/multimodal_transformers/data/data_utils.py:159: SettingWithCopyWarning: \n",
      "A value is trying to be set on a copy of a slice from a DataFrame.\n",
      "Try using .loc[row_indexer,col_indexer] = value instead\n",
      "\n",
      "See the caveats in the documentation: https://pandas.pydata.org/pandas-docs/stable/user_guide/indexing.html#returning-a-view-versus-a-copy\n",
      "  df[num_cols] = df[num_cols].fillna(df[num_cols].median())\n",
      "/home/gridsan/stynan/.local/lib/python3.8/site-packages/multimodal_transformers/data/data_utils.py:159: SettingWithCopyWarning: \n",
      "A value is trying to be set on a copy of a slice from a DataFrame.\n",
      "Try using .loc[row_indexer,col_indexer] = value instead\n",
      "\n",
      "See the caveats in the documentation: https://pandas.pydata.org/pandas-docs/stable/user_guide/indexing.html#returning-a-view-versus-a-copy\n",
      "  df[num_cols] = df[num_cols].fillna(df[num_cols].median())\n",
      "/home/gridsan/stynan/.local/lib/python3.8/site-packages/multimodal_transformers/data/data_utils.py:159: SettingWithCopyWarning: \n",
      "A value is trying to be set on a copy of a slice from a DataFrame.\n",
      "Try using .loc[row_indexer,col_indexer] = value instead\n",
      "\n",
      "See the caveats in the documentation: https://pandas.pydata.org/pandas-docs/stable/user_guide/indexing.html#returning-a-view-versus-a-copy\n",
      "  df[num_cols] = df[num_cols].fillna(df[num_cols].median())\n",
      "/home/gridsan/stynan/.local/lib/python3.8/site-packages/multimodal_transformers/data/data_utils.py:159: SettingWithCopyWarning: \n",
      "A value is trying to be set on a copy of a slice from a DataFrame.\n",
      "Try using .loc[row_indexer,col_indexer] = value instead\n",
      "\n",
      "See the caveats in the documentation: https://pandas.pydata.org/pandas-docs/stable/user_guide/indexing.html#returning-a-view-versus-a-copy\n",
      "  df[num_cols] = df[num_cols].fillna(df[num_cols].median())\n",
      "/home/gridsan/stynan/.local/lib/python3.8/site-packages/multimodal_transformers/data/data_utils.py:159: SettingWithCopyWarning: \n",
      "A value is trying to be set on a copy of a slice from a DataFrame.\n",
      "Try using .loc[row_indexer,col_indexer] = value instead\n",
      "\n",
      "See the caveats in the documentation: https://pandas.pydata.org/pandas-docs/stable/user_guide/indexing.html#returning-a-view-versus-a-copy\n",
      "  df[num_cols] = df[num_cols].fillna(df[num_cols].median())\n",
      "/home/gridsan/stynan/.local/lib/python3.8/site-packages/multimodal_transformers/data/data_utils.py:159: SettingWithCopyWarning: \n",
      "A value is trying to be set on a copy of a slice from a DataFrame.\n",
      "Try using .loc[row_indexer,col_indexer] = value instead\n",
      "\n",
      "See the caveats in the documentation: https://pandas.pydata.org/pandas-docs/stable/user_guide/indexing.html#returning-a-view-versus-a-copy\n",
      "  df[num_cols] = df[num_cols].fillna(df[num_cols].median())\n",
      "/home/gridsan/stynan/.local/lib/python3.8/site-packages/multimodal_transformers/data/data_utils.py:159: SettingWithCopyWarning: \n",
      "A value is trying to be set on a copy of a slice from a DataFrame.\n",
      "Try using .loc[row_indexer,col_indexer] = value instead\n",
      "\n",
      "See the caveats in the documentation: https://pandas.pydata.org/pandas-docs/stable/user_guide/indexing.html#returning-a-view-versus-a-copy\n",
      "  df[num_cols] = df[num_cols].fillna(df[num_cols].median())\n",
      "/home/gridsan/stynan/.local/lib/python3.8/site-packages/multimodal_transformers/data/data_utils.py:159: SettingWithCopyWarning: \n",
      "A value is trying to be set on a copy of a slice from a DataFrame.\n",
      "Try using .loc[row_indexer,col_indexer] = value instead\n",
      "\n",
      "See the caveats in the documentation: https://pandas.pydata.org/pandas-docs/stable/user_guide/indexing.html#returning-a-view-versus-a-copy\n",
      "  df[num_cols] = df[num_cols].fillna(df[num_cols].median())\n",
      "/home/gridsan/stynan/.local/lib/python3.8/site-packages/multimodal_transformers/data/data_utils.py:159: SettingWithCopyWarning: \n",
      "A value is trying to be set on a copy of a slice from a DataFrame.\n",
      "Try using .loc[row_indexer,col_indexer] = value instead\n",
      "\n",
      "See the caveats in the documentation: https://pandas.pydata.org/pandas-docs/stable/user_guide/indexing.html#returning-a-view-versus-a-copy\n",
      "  df[num_cols] = df[num_cols].fillna(df[num_cols].median())\n",
      "/home/gridsan/stynan/.local/lib/python3.8/site-packages/multimodal_transformers/data/data_utils.py:159: SettingWithCopyWarning: \n",
      "A value is trying to be set on a copy of a slice from a DataFrame.\n",
      "Try using .loc[row_indexer,col_indexer] = value instead\n",
      "\n",
      "See the caveats in the documentation: https://pandas.pydata.org/pandas-docs/stable/user_guide/indexing.html#returning-a-view-versus-a-copy\n",
      "  df[num_cols] = df[num_cols].fillna(df[num_cols].median())\n",
      "/home/gridsan/stynan/.local/lib/python3.8/site-packages/multimodal_transformers/data/data_utils.py:159: SettingWithCopyWarning: \n",
      "A value is trying to be set on a copy of a slice from a DataFrame.\n",
      "Try using .loc[row_indexer,col_indexer] = value instead\n",
      "\n",
      "See the caveats in the documentation: https://pandas.pydata.org/pandas-docs/stable/user_guide/indexing.html#returning-a-view-versus-a-copy\n",
      "  df[num_cols] = df[num_cols].fillna(df[num_cols].median())\n",
      "/home/gridsan/stynan/.local/lib/python3.8/site-packages/multimodal_transformers/data/data_utils.py:159: SettingWithCopyWarning: \n",
      "A value is trying to be set on a copy of a slice from a DataFrame.\n",
      "Try using .loc[row_indexer,col_indexer] = value instead\n",
      "\n",
      "See the caveats in the documentation: https://pandas.pydata.org/pandas-docs/stable/user_guide/indexing.html#returning-a-view-versus-a-copy\n",
      "  df[num_cols] = df[num_cols].fillna(df[num_cols].median())\n",
      "/home/gridsan/stynan/.local/lib/python3.8/site-packages/multimodal_transformers/data/data_utils.py:159: SettingWithCopyWarning: \n",
      "A value is trying to be set on a copy of a slice from a DataFrame.\n",
      "Try using .loc[row_indexer,col_indexer] = value instead\n",
      "\n",
      "See the caveats in the documentation: https://pandas.pydata.org/pandas-docs/stable/user_guide/indexing.html#returning-a-view-versus-a-copy\n",
      "  df[num_cols] = df[num_cols].fillna(df[num_cols].median())\n",
      "/home/gridsan/stynan/.local/lib/python3.8/site-packages/multimodal_transformers/data/data_utils.py:159: SettingWithCopyWarning: \n",
      "A value is trying to be set on a copy of a slice from a DataFrame.\n",
      "Try using .loc[row_indexer,col_indexer] = value instead\n",
      "\n",
      "See the caveats in the documentation: https://pandas.pydata.org/pandas-docs/stable/user_guide/indexing.html#returning-a-view-versus-a-copy\n",
      "  df[num_cols] = df[num_cols].fillna(df[num_cols].median())\n",
      "/home/gridsan/stynan/.local/lib/python3.8/site-packages/multimodal_transformers/data/data_utils.py:159: SettingWithCopyWarning: \n",
      "A value is trying to be set on a copy of a slice from a DataFrame.\n",
      "Try using .loc[row_indexer,col_indexer] = value instead\n",
      "\n",
      "See the caveats in the documentation: https://pandas.pydata.org/pandas-docs/stable/user_guide/indexing.html#returning-a-view-versus-a-copy\n",
      "  df[num_cols] = df[num_cols].fillna(df[num_cols].median())\n",
      "/home/gridsan/stynan/.local/lib/python3.8/site-packages/multimodal_transformers/data/data_utils.py:159: SettingWithCopyWarning: \n",
      "A value is trying to be set on a copy of a slice from a DataFrame.\n",
      "Try using .loc[row_indexer,col_indexer] = value instead\n",
      "\n",
      "See the caveats in the documentation: https://pandas.pydata.org/pandas-docs/stable/user_guide/indexing.html#returning-a-view-versus-a-copy\n",
      "  df[num_cols] = df[num_cols].fillna(df[num_cols].median())\n",
      "/home/gridsan/stynan/.local/lib/python3.8/site-packages/multimodal_transformers/data/data_utils.py:159: SettingWithCopyWarning: \n",
      "A value is trying to be set on a copy of a slice from a DataFrame.\n",
      "Try using .loc[row_indexer,col_indexer] = value instead\n",
      "\n",
      "See the caveats in the documentation: https://pandas.pydata.org/pandas-docs/stable/user_guide/indexing.html#returning-a-view-versus-a-copy\n",
      "  df[num_cols] = df[num_cols].fillna(df[num_cols].median())\n",
      "/home/gridsan/stynan/.local/lib/python3.8/site-packages/multimodal_transformers/data/data_utils.py:159: SettingWithCopyWarning: \n",
      "A value is trying to be set on a copy of a slice from a DataFrame.\n",
      "Try using .loc[row_indexer,col_indexer] = value instead\n",
      "\n",
      "See the caveats in the documentation: https://pandas.pydata.org/pandas-docs/stable/user_guide/indexing.html#returning-a-view-versus-a-copy\n",
      "  df[num_cols] = df[num_cols].fillna(df[num_cols].median())\n",
      "/home/gridsan/stynan/.local/lib/python3.8/site-packages/multimodal_transformers/data/data_utils.py:159: SettingWithCopyWarning: \n",
      "A value is trying to be set on a copy of a slice from a DataFrame.\n",
      "Try using .loc[row_indexer,col_indexer] = value instead\n",
      "\n",
      "See the caveats in the documentation: https://pandas.pydata.org/pandas-docs/stable/user_guide/indexing.html#returning-a-view-versus-a-copy\n",
      "  df[num_cols] = df[num_cols].fillna(df[num_cols].median())\n",
      "/home/gridsan/stynan/.local/lib/python3.8/site-packages/multimodal_transformers/data/data_utils.py:159: SettingWithCopyWarning: \n",
      "A value is trying to be set on a copy of a slice from a DataFrame.\n",
      "Try using .loc[row_indexer,col_indexer] = value instead\n",
      "\n",
      "See the caveats in the documentation: https://pandas.pydata.org/pandas-docs/stable/user_guide/indexing.html#returning-a-view-versus-a-copy\n",
      "  df[num_cols] = df[num_cols].fillna(df[num_cols].median())\n"
     ]
    }
   ],
   "source": [
    "# Get Datasets\n",
    "train_dataset, val_dataset, test_dataset = load_data_from_folder(\n",
    "    data_args.data_path,\n",
    "    data_args.column_info['text_cols'],\n",
    "    tokenizer,\n",
    "    label_col=data_args.column_info['label_col'],\n",
    "    label_list=data_args.column_info['label_list'],\n",
    "    categorical_cols=data_args.column_info['cat_cols'],\n",
    "    numerical_cols=data_args.column_info['num_cols'],\n",
    "    sep_text_token_str=tokenizer.sep_token,\n",
    ")"
   ]
  },
  {
   "cell_type": "code",
   "execution_count": 50,
   "metadata": {},
   "outputs": [],
   "source": [
    "config = AutoConfig.from_pretrained(\n",
    "        model_args.config_name if model_args.config_name else model_args.model_name_or_path,\n",
    "        cache_dir=model_args.cache_dir,\n",
    "    )\n",
    "num_labels = 4\n",
    "tabular_config = TabularConfig(num_labels=num_labels,\n",
    "                               cat_feat_dim=train_dataset.cat_feats.shape[1],\n",
    "                               numerical_feat_dim=train_dataset.numerical_feats.shape[1],\n",
    "                               **vars(data_args))\n",
    "config.tabular_config = tabular_config"
   ]
  },
  {
   "cell_type": "markdown",
   "metadata": {
    "id": "H63Y-TjyRC7S"
   },
   "source": [
    "## Classification with BERT and Hugging Face"
   ]
  },
  {
   "cell_type": "code",
   "execution_count": 51,
   "metadata": {
    "id": "0P41FayISNRI"
   },
   "outputs": [
    {
     "name": "stderr",
     "output_type": "stream",
     "text": [
      "Some weights of the model checkpoint at /home/gridsan/stynan/sdoh_model/bert-base-uncased were not used when initializing BertWithTabular: ['cls.predictions.bias', 'cls.predictions.transform.dense.weight', 'cls.predictions.transform.dense.bias', 'cls.predictions.decoder.weight', 'cls.seq_relationship.weight', 'cls.seq_relationship.bias', 'cls.predictions.transform.LayerNorm.weight', 'cls.predictions.transform.LayerNorm.bias']\n",
      "- This IS expected if you are initializing BertWithTabular from the checkpoint of a model trained on another task or with another architecture (e.g. initializing a BertForSequenceClassification model from a BertForPretraining model).\n",
      "- This IS NOT expected if you are initializing BertWithTabular from the checkpoint of a model that you expect to be exactly identical (initializing a BertForSequenceClassification model from a BertForSequenceClassification model).\n",
      "Some weights of BertWithTabular were not initialized from the model checkpoint at /home/gridsan/stynan/sdoh_model/bert-base-uncased and are newly initialized: ['classifier.weight', 'classifier.bias', 'tabular_combiner.h_bias', 'tabular_combiner.num_bn.weight', 'tabular_combiner.num_bn.bias', 'tabular_combiner.num_bn.running_mean', 'tabular_combiner.num_bn.running_var', 'tabular_combiner.g_cat_layer.weight', 'tabular_combiner.g_cat_layer.bias', 'tabular_combiner.h_cat_layer.weight', 'tabular_combiner.g_num_layer.weight', 'tabular_combiner.g_num_layer.bias', 'tabular_combiner.h_num_layer.weight', 'tabular_combiner.layer_norm.weight', 'tabular_combiner.layer_norm.bias', 'tabular_classifier.weight', 'tabular_classifier.bias']\n",
      "You should probably TRAIN this model on a down-stream task to be able to use it for predictions and inference.\n"
     ]
    }
   ],
   "source": [
    "\n",
    "model = BertWithTabular.from_pretrained(\n",
    "        model_args.config_name if model_args.config_name else model_args.model_name_or_path,\n",
    "        config=config,\n",
    "        cache_dir=model_args.cache_dir\n",
    "    )\n",
    "\n",
    "model = model.to(device)"
   ]
  },
  {
   "cell_type": "markdown",
   "metadata": {
    "id": "0o_NiS3WgOFf"
   },
   "source": [
    "We can use all of this knowledge to create a classifier that uses the BERT model:"
   ]
  },
  {
   "cell_type": "code",
   "execution_count": 52,
   "metadata": {},
   "outputs": [],
   "source": [
    "from scipy.special import softmax\n",
    "from sklearn.metrics import (\n",
    "    auc,\n",
    "    precision_recall_curve,\n",
    "    roc_auc_score,\n",
    "    f1_score,\n",
    "    confusion_matrix,\n",
    "    matthews_corrcoef,\n",
    ")\n",
    "\n",
    "def calc_classification_metrics(p: EvalPrediction):\n",
    "  pred_labels = np.argmax(p.predictions, axis=1)\n",
    "  pred_scores = softmax(p.predictions, axis=1)[:, 1]\n",
    "  labels = p.label_ids\n",
    "  if len(np.unique(labels)) == 2:  # binary classification\n",
    "      roc_auc_pred_score = roc_auc_score(labels, pred_scores)\n",
    "      precisions, recalls, thresholds = precision_recall_curve(labels,\n",
    "                                                                pred_scores)\n",
    "      fscore = (2 * precisions * recalls) / (precisions + recalls)\n",
    "      fscore[np.isnan(fscore)] = 0\n",
    "      ix = np.argmax(fscore)\n",
    "      threshold = thresholds[ix].item()\n",
    "      pr_auc = auc(recalls, precisions)\n",
    "      tn, fp, fn, tp = confusion_matrix(labels, pred_labels, labels=[0, 1]).ravel()\n",
    "      result = {'roc_auc': roc_auc_pred_score,\n",
    "                'threshold': threshold,\n",
    "                'pr_auc': pr_auc,\n",
    "                'recall': recalls[ix].item(),\n",
    "                'precision': precisions[ix].item(), 'f1': fscore[ix].item(),\n",
    "                'tn': tn.item(), 'fp': fp.item(), 'fn': fn.item(), 'tp': tp.item()\n",
    "                }\n",
    "  else:\n",
    "      acc = (pred_labels == labels).mean()\n",
    "      f1 = f1_score(y_true=labels, y_pred=pred_labels, average = 'weighted')\n",
    "      result = {\n",
    "          'precidsion'\n",
    "          \"acc\": acc,\n",
    "          \"f1\": f1,\n",
    "          \"acc_and_f1\": (acc + f1) / 2,\n",
    "          \"mcc\": matthews_corrcoef(labels, pred_labels)\n",
    "      }\n",
    "\n",
    "  return result"
   ]
  },
  {
   "cell_type": "markdown",
   "metadata": {
    "id": "g9xikRdtRN1N"
   },
   "source": [
    "### Training"
   ]
  },
  {
   "cell_type": "code",
   "execution_count": 53,
   "metadata": {},
   "outputs": [],
   "source": [
    "trainer = Trainer(\n",
    "    model=model,\n",
    "    args=training_args,\n",
    "    train_dataset=train_dataset,\n",
    "    eval_dataset=val_dataset,\n",
    "    #test_dataset = test_dataset,\n",
    "    compute_metrics=calc_classification_metrics,\n",
    ")"
   ]
  },
  {
   "cell_type": "code",
   "execution_count": 54,
   "metadata": {
    "scrolled": true
   },
   "outputs": [
    {
     "data": {
      "application/vnd.jupyter.widget-view+json": {
       "model_id": "14d497ca8c7f45c4b340fda934a61e1d",
       "version_major": 2,
       "version_minor": 0
      },
      "text/plain": [
       "HBox(children=(HTML(value='Epoch'), FloatProgress(value=0.0, max=20.0), HTML(value='')))"
      ]
     },
     "metadata": {},
     "output_type": "display_data"
    },
    {
     "data": {
      "application/vnd.jupyter.widget-view+json": {
       "model_id": "57e2078395ef44119a82a7aafb653b1c",
       "version_major": 2,
       "version_minor": 0
      },
      "text/plain": [
       "HBox(children=(HTML(value='Iteration'), FloatProgress(value=0.0, max=193.0), HTML(value='')))"
      ]
     },
     "metadata": {},
     "output_type": "display_data"
    },
    {
     "name": "stderr",
     "output_type": "stream",
     "text": [
      "/state/partition1/llgrid/pkg/anaconda/anaconda3-2021a/lib/python3.8/site-packages/torch/nn/parallel/_functions.py:65: UserWarning: Was asked to gather along dimension 0, but all input tensors were scalars; will instead unsqueeze and return a vector.\n",
      "  warnings.warn('Was asked to gather along dimension 0, but all '\n"
     ]
    },
    {
     "name": "stdout",
     "output_type": "stream",
     "text": [
      "{'loss': 1.292910614013672, 'learning_rate': 4.967616580310881e-05, 'epoch': 0.12953367875647667, 'step': 25}\n",
      "{'loss': 1.2415359497070313, 'learning_rate': 4.9352331606217614e-05, 'epoch': 0.25906735751295334, 'step': 50}\n",
      "{'loss': 1.1841990661621093, 'learning_rate': 4.902849740932643e-05, 'epoch': 0.38860103626943004, 'step': 75}\n",
      "{'loss': 1.212017822265625, 'learning_rate': 4.870466321243523e-05, 'epoch': 0.5181347150259067, 'step': 100}\n",
      "{'loss': 1.1837298583984375, 'learning_rate': 4.8380829015544046e-05, 'epoch': 0.6476683937823834, 'step': 125}\n",
      "{'loss': 1.1828997802734376, 'learning_rate': 4.805699481865285e-05, 'epoch': 0.7772020725388601, 'step': 150}\n",
      "{'loss': 1.1289813232421875, 'learning_rate': 4.773316062176166e-05, 'epoch': 0.9067357512953368, 'step': 175}\n",
      "\n"
     ]
    },
    {
     "data": {
      "application/vnd.jupyter.widget-view+json": {
       "model_id": "23f192a822584e81bbf14ecdf00336d1",
       "version_major": 2,
       "version_minor": 0
      },
      "text/plain": [
       "HBox(children=(HTML(value='Iteration'), FloatProgress(value=0.0, max=193.0), HTML(value='')))"
      ]
     },
     "metadata": {},
     "output_type": "display_data"
    },
    {
     "name": "stdout",
     "output_type": "stream",
     "text": [
      "{'loss': 1.0936590576171874, 'learning_rate': 4.740932642487047e-05, 'epoch': 1.0362694300518134, 'step': 200}\n",
      "{'loss': 1.1113958740234375, 'learning_rate': 4.708549222797928e-05, 'epoch': 1.16580310880829, 'step': 225}\n",
      "{'loss': 1.155003662109375, 'learning_rate': 4.676165803108808e-05, 'epoch': 1.2953367875647668, 'step': 250}\n"
     ]
    },
    {
     "data": {
      "application/vnd.jupyter.widget-view+json": {
       "model_id": "7e883fe04688414f83c2d082feb8c898",
       "version_major": 2,
       "version_minor": 0
      },
      "text/plain": [
       "HBox(children=(HTML(value='Evaluation'), FloatProgress(value=0.0, max=214.0), HTML(value='')))"
      ]
     },
     "metadata": {},
     "output_type": "display_data"
    },
    {
     "name": "stdout",
     "output_type": "stream",
     "text": [
      "\n",
      "{'eval_loss': 1.0588400294845621, 'eval_acc': 0.5127304653204565, 'eval_f1': 0.41148551066325006, 'eval_acc_and_f1': 0.46210798799185326, 'eval_mcc': 0.23629790787361776, 'epoch': 1.2953367875647668, 'step': 250}\n",
      "{'loss': 1.072750244140625, 'learning_rate': 4.643782383419689e-05, 'epoch': 1.4248704663212435, 'step': 275}\n",
      "{'loss': 1.103773193359375, 'learning_rate': 4.61139896373057e-05, 'epoch': 1.5544041450777202, 'step': 300}\n",
      "{'loss': 1.06382568359375, 'learning_rate': 4.5790155440414514e-05, 'epoch': 1.6839378238341969, 'step': 325}\n",
      "{'loss': 1.092694091796875, 'learning_rate': 4.546632124352332e-05, 'epoch': 1.8134715025906736, 'step': 350}\n",
      "{'loss': 1.105372314453125, 'learning_rate': 4.5142487046632126e-05, 'epoch': 1.9430051813471503, 'step': 375}\n",
      "\n"
     ]
    },
    {
     "data": {
      "application/vnd.jupyter.widget-view+json": {
       "model_id": "0dacaad1d9154432a6ea1625c6a49ed0",
       "version_major": 2,
       "version_minor": 0
      },
      "text/plain": [
       "HBox(children=(HTML(value='Iteration'), FloatProgress(value=0.0, max=193.0), HTML(value='')))"
      ]
     },
     "metadata": {},
     "output_type": "display_data"
    },
    {
     "name": "stdout",
     "output_type": "stream",
     "text": [
      "{'loss': 1.012935791015625, 'learning_rate': 4.481865284974093e-05, 'epoch': 2.0725388601036268, 'step': 400}\n",
      "{'loss': 1.046302490234375, 'learning_rate': 4.4494818652849745e-05, 'epoch': 2.2020725388601035, 'step': 425}\n",
      "{'loss': 1.030330810546875, 'learning_rate': 4.417098445595855e-05, 'epoch': 2.33160621761658, 'step': 450}\n",
      "{'loss': 0.976514892578125, 'learning_rate': 4.384715025906736e-05, 'epoch': 2.461139896373057, 'step': 475}\n",
      "{'loss': 0.97410400390625, 'learning_rate': 4.352331606217617e-05, 'epoch': 2.5906735751295336, 'step': 500}\n"
     ]
    },
    {
     "data": {
      "application/vnd.jupyter.widget-view+json": {
       "model_id": "041129bea75141d4a6b5201668bfa5dd",
       "version_major": 2,
       "version_minor": 0
      },
      "text/plain": [
       "HBox(children=(HTML(value='Evaluation'), FloatProgress(value=0.0, max=214.0), HTML(value='')))"
      ]
     },
     "metadata": {},
     "output_type": "display_data"
    },
    {
     "name": "stdout",
     "output_type": "stream",
     "text": [
      "\n",
      "{'eval_loss': 0.8771921090295449, 'eval_acc': 0.6379865378987416, 'eval_f1': 0.611303937536368, 'eval_acc_and_f1': 0.6246452377175549, 'eval_mcc': 0.4702629571091348, 'epoch': 2.5906735751295336, 'step': 500}\n",
      "{'loss': 1.0104248046875, 'learning_rate': 4.3199481865284976e-05, 'epoch': 2.7202072538860103, 'step': 525}\n",
      "{'loss': 0.9827783203125, 'learning_rate': 4.287564766839379e-05, 'epoch': 2.849740932642487, 'step': 550}\n",
      "{'loss': 0.9934716796875, 'learning_rate': 4.2551813471502595e-05, 'epoch': 2.9792746113989637, 'step': 575}\n",
      "\n"
     ]
    },
    {
     "data": {
      "application/vnd.jupyter.widget-view+json": {
       "model_id": "50fa8f5a2af4424b8e567d629ad6450a",
       "version_major": 2,
       "version_minor": 0
      },
      "text/plain": [
       "HBox(children=(HTML(value='Iteration'), FloatProgress(value=0.0, max=193.0), HTML(value='')))"
      ]
     },
     "metadata": {},
     "output_type": "display_data"
    },
    {
     "name": "stdout",
     "output_type": "stream",
     "text": [
      "{'loss': 0.92469482421875, 'learning_rate': 4.22279792746114e-05, 'epoch': 3.1088082901554404, 'step': 600}\n",
      "{'loss': 0.8411572265625, 'learning_rate': 4.190414507772021e-05, 'epoch': 3.238341968911917, 'step': 625}\n",
      "{'loss': 0.8701708984375, 'learning_rate': 4.158031088082901e-05, 'epoch': 3.3678756476683938, 'step': 650}\n",
      "{'loss': 0.8166259765625, 'learning_rate': 4.1256476683937825e-05, 'epoch': 3.4974093264248705, 'step': 675}\n",
      "{'loss': 0.8501904296875, 'learning_rate': 4.093264248704664e-05, 'epoch': 3.626943005181347, 'step': 700}\n",
      "{'loss': 0.83544189453125, 'learning_rate': 4.0608808290155444e-05, 'epoch': 3.756476683937824, 'step': 725}\n",
      "{'loss': 0.82861328125, 'learning_rate': 4.028497409326425e-05, 'epoch': 3.8860103626943006, 'step': 750}\n"
     ]
    },
    {
     "data": {
      "application/vnd.jupyter.widget-view+json": {
       "model_id": "6abd6318a9c34584876cb55f651ed37b",
       "version_major": 2,
       "version_minor": 0
      },
      "text/plain": [
       "HBox(children=(HTML(value='Evaluation'), FloatProgress(value=0.0, max=214.0), HTML(value='')))"
      ]
     },
     "metadata": {},
     "output_type": "display_data"
    },
    {
     "name": "stdout",
     "output_type": "stream",
     "text": [
      "\n",
      "{'eval_loss': 0.62451481780777, 'eval_acc': 0.7632426104770267, 'eval_f1': 0.7610234148388905, 'eval_acc_and_f1': 0.7621330126579586, 'eval_mcc': 0.6558430528014217, 'epoch': 3.8860103626943006, 'step': 750}\n",
      "\n"
     ]
    },
    {
     "data": {
      "application/vnd.jupyter.widget-view+json": {
       "model_id": "ec9d46d4c66c4f0cbce0e21fa2f01006",
       "version_major": 2,
       "version_minor": 0
      },
      "text/plain": [
       "HBox(children=(HTML(value='Iteration'), FloatProgress(value=0.0, max=193.0), HTML(value='')))"
      ]
     },
     "metadata": {},
     "output_type": "display_data"
    },
    {
     "name": "stdout",
     "output_type": "stream",
     "text": [
      "{'loss': 0.81122314453125, 'learning_rate': 3.9961139896373056e-05, 'epoch': 4.015544041450777, 'step': 775}\n",
      "{'loss': 0.63302001953125, 'learning_rate': 3.963730569948187e-05, 'epoch': 4.1450777202072535, 'step': 800}\n",
      "{'loss': 0.58846435546875, 'learning_rate': 3.9313471502590675e-05, 'epoch': 4.274611398963731, 'step': 825}\n",
      "{'loss': 0.6130322265625, 'learning_rate': 3.898963730569948e-05, 'epoch': 4.404145077720207, 'step': 850}\n",
      "{'loss': 0.58425048828125, 'learning_rate': 3.8665803108808294e-05, 'epoch': 4.533678756476684, 'step': 875}\n",
      "{'loss': 0.6055517578125, 'learning_rate': 3.83419689119171e-05, 'epoch': 4.66321243523316, 'step': 900}\n",
      "{'loss': 0.63435546875, 'learning_rate': 3.801813471502591e-05, 'epoch': 4.7927461139896375, 'step': 925}\n",
      "{'loss': 0.58943115234375, 'learning_rate': 3.769430051813472e-05, 'epoch': 4.922279792746114, 'step': 950}\n",
      "\n"
     ]
    },
    {
     "data": {
      "application/vnd.jupyter.widget-view+json": {
       "model_id": "d5c46fbc9d334663b15c4ed3716430f5",
       "version_major": 2,
       "version_minor": 0
      },
      "text/plain": [
       "HBox(children=(HTML(value='Iteration'), FloatProgress(value=0.0, max=193.0), HTML(value='')))"
      ]
     },
     "metadata": {},
     "output_type": "display_data"
    },
    {
     "name": "stdout",
     "output_type": "stream",
     "text": [
      "{'loss': 0.540458984375, 'learning_rate': 3.7370466321243525e-05, 'epoch': 5.051813471502591, 'step': 975}\n",
      "{'loss': 0.4073486328125, 'learning_rate': 3.704663212435233e-05, 'epoch': 5.181347150259067, 'step': 1000}\n"
     ]
    },
    {
     "data": {
      "application/vnd.jupyter.widget-view+json": {
       "model_id": "fe106573ff0c458eb242a23fc107084e",
       "version_major": 2,
       "version_minor": 0
      },
      "text/plain": [
       "HBox(children=(HTML(value='Evaluation'), FloatProgress(value=0.0, max=214.0), HTML(value='')))"
      ]
     },
     "metadata": {},
     "output_type": "display_data"
    },
    {
     "name": "stdout",
     "output_type": "stream",
     "text": [
      "\n",
      "{'eval_loss': 0.2952756170016616, 'eval_acc': 0.8964003511852502, 'eval_f1': 0.8949642226962585, 'eval_acc_and_f1': 0.8956822869407544, 'eval_mcc': 0.8505040014809454, 'epoch': 5.181347150259067, 'step': 1000}\n",
      "{'loss': 0.38732666015625, 'learning_rate': 3.6722797927461137e-05, 'epoch': 5.310880829015544, 'step': 1025}\n",
      "{'loss': 0.34810302734375, 'learning_rate': 3.639896373056995e-05, 'epoch': 5.4404145077720205, 'step': 1050}\n",
      "{'loss': 0.43593994140625, 'learning_rate': 3.6075129533678755e-05, 'epoch': 5.569948186528498, 'step': 1075}\n",
      "{'loss': 0.39218505859375, 'learning_rate': 3.575129533678757e-05, 'epoch': 5.699481865284974, 'step': 1100}\n",
      "{'loss': 0.46605712890625, 'learning_rate': 3.5427461139896374e-05, 'epoch': 5.829015544041451, 'step': 1125}\n",
      "{'loss': 0.42658935546875, 'learning_rate': 3.510362694300519e-05, 'epoch': 5.958549222797927, 'step': 1150}\n",
      "\n"
     ]
    },
    {
     "data": {
      "application/vnd.jupyter.widget-view+json": {
       "model_id": "33307ade3afb401da1be3f5f7748e711",
       "version_major": 2,
       "version_minor": 0
      },
      "text/plain": [
       "HBox(children=(HTML(value='Iteration'), FloatProgress(value=0.0, max=193.0), HTML(value='')))"
      ]
     },
     "metadata": {},
     "output_type": "display_data"
    },
    {
     "name": "stdout",
     "output_type": "stream",
     "text": [
      "{'loss': 0.37089111328125, 'learning_rate': 3.477979274611399e-05, 'epoch': 6.0880829015544045, 'step': 1175}\n",
      "{'loss': 0.26534912109375, 'learning_rate': 3.44559585492228e-05, 'epoch': 6.217616580310881, 'step': 1200}\n",
      "{'loss': 0.2774462890625, 'learning_rate': 3.4132124352331605e-05, 'epoch': 6.347150259067358, 'step': 1225}\n",
      "{'loss': 0.3357666015625, 'learning_rate': 3.380829015544041e-05, 'epoch': 6.476683937823834, 'step': 1250}\n"
     ]
    },
    {
     "data": {
      "application/vnd.jupyter.widget-view+json": {
       "model_id": "bb5df5eec5ea4e90bc11e76d69db7edf",
       "version_major": 2,
       "version_minor": 0
      },
      "text/plain": [
       "HBox(children=(HTML(value='Evaluation'), FloatProgress(value=0.0, max=214.0), HTML(value='')))"
      ]
     },
     "metadata": {},
     "output_type": "display_data"
    },
    {
     "name": "stdout",
     "output_type": "stream",
     "text": [
      "\n",
      "{'eval_loss': 0.1991715617815863, 'eval_acc': 0.9250804799531753, 'eval_f1': 0.9252608285043796, 'eval_acc_and_f1': 0.9251706542287774, 'eval_mcc': 0.8915693770637129, 'epoch': 6.476683937823834, 'step': 1250}\n",
      "{'loss': 0.23931396484375, 'learning_rate': 3.3484455958549224e-05, 'epoch': 6.606217616580311, 'step': 1275}\n",
      "{'loss': 0.317763671875, 'learning_rate': 3.3160621761658036e-05, 'epoch': 6.7357512953367875, 'step': 1300}\n",
      "{'loss': 0.3760107421875, 'learning_rate': 3.283678756476684e-05, 'epoch': 6.865284974093264, 'step': 1325}\n",
      "{'loss': 0.298056640625, 'learning_rate': 3.251295336787565e-05, 'epoch': 6.994818652849741, 'step': 1350}\n",
      "\n"
     ]
    },
    {
     "data": {
      "application/vnd.jupyter.widget-view+json": {
       "model_id": "65fe8b871b03484ea58c486f11251506",
       "version_major": 2,
       "version_minor": 0
      },
      "text/plain": [
       "HBox(children=(HTML(value='Iteration'), FloatProgress(value=0.0, max=193.0), HTML(value='')))"
      ]
     },
     "metadata": {},
     "output_type": "display_data"
    },
    {
     "name": "stdout",
     "output_type": "stream",
     "text": [
      "{'loss': 0.2389697265625, 'learning_rate': 3.2189119170984454e-05, 'epoch': 7.124352331606218, 'step': 1375}\n",
      "{'loss': 0.222236328125, 'learning_rate': 3.186528497409327e-05, 'epoch': 7.253886010362694, 'step': 1400}\n",
      "{'loss': 0.1974755859375, 'learning_rate': 3.154145077720207e-05, 'epoch': 7.383419689119171, 'step': 1425}\n",
      "{'loss': 0.2406298828125, 'learning_rate': 3.121761658031088e-05, 'epoch': 7.512953367875648, 'step': 1450}\n",
      "{'loss': 0.2478125, 'learning_rate': 3.089378238341969e-05, 'epoch': 7.642487046632124, 'step': 1475}\n",
      "{'loss': 0.207392578125, 'learning_rate': 3.05699481865285e-05, 'epoch': 7.772020725388601, 'step': 1500}\n"
     ]
    },
    {
     "data": {
      "application/vnd.jupyter.widget-view+json": {
       "model_id": "651665b32b4442458b7d9a0b56469379",
       "version_major": 2,
       "version_minor": 0
      },
      "text/plain": [
       "HBox(children=(HTML(value='Evaluation'), FloatProgress(value=0.0, max=214.0), HTML(value='')))"
      ]
     },
     "metadata": {},
     "output_type": "display_data"
    },
    {
     "name": "stdout",
     "output_type": "stream",
     "text": [
      "\n",
      "{'eval_loss': 0.15611581033586863, 'eval_acc': 0.9388352355867721, 'eval_f1': 0.9383050274376387, 'eval_acc_and_f1': 0.9385701315122054, 'eval_mcc': 0.9121355580776338, 'epoch': 7.772020725388601, 'step': 1500}\n",
      "{'loss': 0.244248046875, 'learning_rate': 3.024611398963731e-05, 'epoch': 7.901554404145077, 'step': 1525}\n",
      "\n"
     ]
    },
    {
     "data": {
      "application/vnd.jupyter.widget-view+json": {
       "model_id": "40a62ebbb56247afbf0a0c192c0689fc",
       "version_major": 2,
       "version_minor": 0
      },
      "text/plain": [
       "HBox(children=(HTML(value='Iteration'), FloatProgress(value=0.0, max=193.0), HTML(value='')))"
      ]
     },
     "metadata": {},
     "output_type": "display_data"
    },
    {
     "name": "stdout",
     "output_type": "stream",
     "text": [
      "{'loss': 0.2060009765625, 'learning_rate': 2.9922279792746117e-05, 'epoch': 8.031088082901555, 'step': 1550}\n",
      "{'loss': 0.1735498046875, 'learning_rate': 2.9598445595854923e-05, 'epoch': 8.160621761658032, 'step': 1575}\n",
      "{'loss': 0.1785888671875, 'learning_rate': 2.9274611398963732e-05, 'epoch': 8.290155440414507, 'step': 1600}\n",
      "{'loss': 0.1903662109375, 'learning_rate': 2.8950777202072538e-05, 'epoch': 8.419689119170984, 'step': 1625}\n",
      "{'loss': 0.17611328125, 'learning_rate': 2.862694300518135e-05, 'epoch': 8.549222797927461, 'step': 1650}\n",
      "{'loss': 0.2047607421875, 'learning_rate': 2.8303108808290157e-05, 'epoch': 8.678756476683938, 'step': 1675}\n",
      "{'loss': 0.203388671875, 'learning_rate': 2.7979274611398963e-05, 'epoch': 8.808290155440414, 'step': 1700}\n",
      "{'loss': 0.1852587890625, 'learning_rate': 2.7655440414507772e-05, 'epoch': 8.937823834196891, 'step': 1725}\n",
      "\n"
     ]
    },
    {
     "data": {
      "application/vnd.jupyter.widget-view+json": {
       "model_id": "e7cf330fce5f44f5ad8b65a68d5180fe",
       "version_major": 2,
       "version_minor": 0
      },
      "text/plain": [
       "HBox(children=(HTML(value='Iteration'), FloatProgress(value=0.0, max=193.0), HTML(value='')))"
      ]
     },
     "metadata": {},
     "output_type": "display_data"
    },
    {
     "name": "stdout",
     "output_type": "stream",
     "text": [
      "{'loss': 0.1826220703125, 'learning_rate': 2.7331606217616585e-05, 'epoch': 9.067357512953368, 'step': 1750}\n"
     ]
    },
    {
     "data": {
      "application/vnd.jupyter.widget-view+json": {
       "model_id": "1b17426875e04a82baeb87a1902ada2f",
       "version_major": 2,
       "version_minor": 0
      },
      "text/plain": [
       "HBox(children=(HTML(value='Evaluation'), FloatProgress(value=0.0, max=214.0), HTML(value='')))"
      ]
     },
     "metadata": {},
     "output_type": "display_data"
    },
    {
     "name": "stdout",
     "output_type": "stream",
     "text": [
      "\n",
      "{'eval_loss': 0.14628202642374372, 'eval_acc': 0.9461515949663447, 'eval_f1': 0.9460366321192708, 'eval_acc_and_f1': 0.9460941135428078, 'eval_mcc': 0.9222917008029957, 'epoch': 9.067357512953368, 'step': 1750}\n",
      "{'loss': 0.2185888671875, 'learning_rate': 2.700777202072539e-05, 'epoch': 9.196891191709845, 'step': 1775}\n",
      "{'loss': 0.1586962890625, 'learning_rate': 2.6683937823834197e-05, 'epoch': 9.32642487046632, 'step': 1800}\n",
      "{'loss': 0.1746826171875, 'learning_rate': 2.6360103626943007e-05, 'epoch': 9.455958549222798, 'step': 1825}\n",
      "{'loss': 0.1923779296875, 'learning_rate': 2.6036269430051813e-05, 'epoch': 9.585492227979275, 'step': 1850}\n",
      "{'loss': 0.1542626953125, 'learning_rate': 2.5712435233160625e-05, 'epoch': 9.715025906735752, 'step': 1875}\n",
      "{'loss': 0.1759033203125, 'learning_rate': 2.538860103626943e-05, 'epoch': 9.844559585492227, 'step': 1900}\n",
      "{'loss': 0.1715771484375, 'learning_rate': 2.506476683937824e-05, 'epoch': 9.974093264248705, 'step': 1925}\n",
      "\n"
     ]
    },
    {
     "data": {
      "application/vnd.jupyter.widget-view+json": {
       "model_id": "ee52406104054614beb167cb0fb64df3",
       "version_major": 2,
       "version_minor": 0
      },
      "text/plain": [
       "HBox(children=(HTML(value='Iteration'), FloatProgress(value=0.0, max=193.0), HTML(value='')))"
      ]
     },
     "metadata": {},
     "output_type": "display_data"
    },
    {
     "name": "stdout",
     "output_type": "stream",
     "text": [
      "{'loss': 0.178447265625, 'learning_rate': 2.4740932642487047e-05, 'epoch': 10.103626943005182, 'step': 1950}\n",
      "{'loss': 0.1615087890625, 'learning_rate': 2.4417098445595856e-05, 'epoch': 10.233160621761659, 'step': 1975}\n",
      "{'loss': 0.1514697265625, 'learning_rate': 2.4093264248704665e-05, 'epoch': 10.362694300518134, 'step': 2000}\n"
     ]
    },
    {
     "data": {
      "application/vnd.jupyter.widget-view+json": {
       "model_id": "47cd7044649d45d2843a7b73168d55a5",
       "version_major": 2,
       "version_minor": 0
      },
      "text/plain": [
       "HBox(children=(HTML(value='Evaluation'), FloatProgress(value=0.0, max=214.0), HTML(value='')))"
      ]
     },
     "metadata": {},
     "output_type": "display_data"
    },
    {
     "name": "stdout",
     "output_type": "stream",
     "text": [
      "\n",
      "{'eval_loss': 0.1184456596213137, 'eval_acc': 0.95171202809482, 'eval_f1': 0.9515342907527305, 'eval_acc_and_f1': 0.9516231594237753, 'eval_mcc': 0.9303215421005616, 'epoch': 10.362694300518134, 'step': 2000}\n",
      "{'loss': 0.16134765625, 'learning_rate': 2.3769430051813475e-05, 'epoch': 10.492227979274611, 'step': 2025}\n",
      "{'loss': 0.1583349609375, 'learning_rate': 2.344559585492228e-05, 'epoch': 10.621761658031089, 'step': 2050}\n",
      "{'loss': 0.1565869140625, 'learning_rate': 2.3121761658031087e-05, 'epoch': 10.751295336787564, 'step': 2075}\n",
      "{'loss': 0.1833642578125, 'learning_rate': 2.27979274611399e-05, 'epoch': 10.880829015544041, 'step': 2100}\n",
      "\n"
     ]
    },
    {
     "data": {
      "application/vnd.jupyter.widget-view+json": {
       "model_id": "67fd67c2393d435e97954d7a2421c420",
       "version_major": 2,
       "version_minor": 0
      },
      "text/plain": [
       "HBox(children=(HTML(value='Iteration'), FloatProgress(value=0.0, max=193.0), HTML(value='')))"
      ]
     },
     "metadata": {},
     "output_type": "display_data"
    },
    {
     "name": "stdout",
     "output_type": "stream",
     "text": [
      "{'loss': 0.1531298828125, 'learning_rate': 2.2474093264248706e-05, 'epoch': 11.010362694300518, 'step': 2125}\n",
      "{'loss': 0.1168212890625, 'learning_rate': 2.2150259067357515e-05, 'epoch': 11.139896373056995, 'step': 2150}\n",
      "{'loss': 0.1133447265625, 'learning_rate': 2.182642487046632e-05, 'epoch': 11.26943005181347, 'step': 2175}\n",
      "{'loss': 0.1337353515625, 'learning_rate': 2.150259067357513e-05, 'epoch': 11.398963730569948, 'step': 2200}\n",
      "{'loss': 0.1373095703125, 'learning_rate': 2.117875647668394e-05, 'epoch': 11.528497409326425, 'step': 2225}\n",
      "{'loss': 0.1865966796875, 'learning_rate': 2.0854922279792746e-05, 'epoch': 11.658031088082902, 'step': 2250}\n"
     ]
    },
    {
     "data": {
      "application/vnd.jupyter.widget-view+json": {
       "model_id": "eeb6c20fd6794e1aba285f6e55b669bd",
       "version_major": 2,
       "version_minor": 0
      },
      "text/plain": [
       "HBox(children=(HTML(value='Evaluation'), FloatProgress(value=0.0, max=214.0), HTML(value='')))"
      ]
     },
     "metadata": {},
     "output_type": "display_data"
    },
    {
     "name": "stdout",
     "output_type": "stream",
     "text": [
      "{'loss': 0.12515625, 'learning_rate': 1.89119170984456e-05, 'epoch': 12.435233160621761, 'step': 2400}\n",
      "{'loss': 0.127138671875, 'learning_rate': 1.8588082901554405e-05, 'epoch': 12.564766839378239, 'step': 2425}\n",
      "{'loss': 0.1128271484375, 'learning_rate': 1.8264248704663214e-05, 'epoch': 12.694300518134716, 'step': 2450}\n",
      "{'loss': 0.1319970703125, 'learning_rate': 1.794041450777202e-05, 'epoch': 12.823834196891191, 'step': 2475}\n",
      "{'loss': 0.1269775390625, 'learning_rate': 1.761658031088083e-05, 'epoch': 12.953367875647668, 'step': 2500}\n"
     ]
    },
    {
     "data": {
      "application/vnd.jupyter.widget-view+json": {
       "model_id": "c075325dfa0a42158d368ce350a30b50",
       "version_major": 2,
       "version_minor": 0
      },
      "text/plain": [
       "HBox(children=(HTML(value='Evaluation'), FloatProgress(value=0.0, max=214.0), HTML(value='')))"
      ]
     },
     "metadata": {},
     "output_type": "display_data"
    },
    {
     "name": "stdout",
     "output_type": "stream",
     "text": [
      "\n",
      "{'eval_loss': 0.10421038287908999, 'eval_acc': 0.9628328943517706, 'eval_f1': 0.9626922412593568, 'eval_acc_and_f1': 0.9627625678055637, 'eval_mcc': 0.94653790295311, 'epoch': 12.953367875647668, 'step': 2500}\n",
      "\n"
     ]
    },
    {
     "data": {
      "application/vnd.jupyter.widget-view+json": {
       "model_id": "b5f1f396cfbd4fb79b007736e339e244",
       "version_major": 2,
       "version_minor": 0
      },
      "text/plain": [
       "HBox(children=(HTML(value='Iteration'), FloatProgress(value=0.0, max=193.0), HTML(value='')))"
      ]
     },
     "metadata": {},
     "output_type": "display_data"
    },
    {
     "name": "stdout",
     "output_type": "stream",
     "text": [
      "{'loss': 0.13748046875, 'learning_rate': 1.729274611398964e-05, 'epoch': 13.082901554404145, 'step': 2525}\n",
      "{'loss': 0.1096630859375, 'learning_rate': 1.6968911917098445e-05, 'epoch': 13.212435233160623, 'step': 2550}\n",
      "{'loss': 0.131689453125, 'learning_rate': 1.6645077720207254e-05, 'epoch': 13.341968911917098, 'step': 2575}\n",
      "{'loss': 0.1512109375, 'learning_rate': 1.6321243523316064e-05, 'epoch': 13.471502590673575, 'step': 2600}\n",
      "{'loss': 0.1172021484375, 'learning_rate': 1.5997409326424873e-05, 'epoch': 13.601036269430052, 'step': 2625}\n",
      "{'loss': 0.118916015625, 'learning_rate': 1.567357512953368e-05, 'epoch': 13.73056994818653, 'step': 2650}\n",
      "{'loss': 0.09666015625, 'learning_rate': 1.534974093264249e-05, 'epoch': 13.860103626943005, 'step': 2675}\n",
      "{'loss': 0.1298583984375, 'learning_rate': 1.5025906735751296e-05, 'epoch': 13.989637305699482, 'step': 2700}\n",
      "\n"
     ]
    },
    {
     "data": {
      "application/vnd.jupyter.widget-view+json": {
       "model_id": "57a2f79e7daf451f8d39c7ef25fb6727",
       "version_major": 2,
       "version_minor": 0
      },
      "text/plain": [
       "HBox(children=(HTML(value='Iteration'), FloatProgress(value=0.0, max=193.0), HTML(value='')))"
      ]
     },
     "metadata": {},
     "output_type": "display_data"
    },
    {
     "name": "stdout",
     "output_type": "stream",
     "text": [
      "{'loss': 0.1103759765625, 'learning_rate': 1.4702072538860104e-05, 'epoch': 14.119170984455959, 'step': 2725}\n",
      "{'loss': 0.1145458984375, 'learning_rate': 1.4378238341968913e-05, 'epoch': 14.248704663212436, 'step': 2750}\n"
     ]
    },
    {
     "data": {
      "application/vnd.jupyter.widget-view+json": {
       "model_id": "013f41c2b1e04621bf3c03aee0e8962f",
       "version_major": 2,
       "version_minor": 0
      },
      "text/plain": [
       "HBox(children=(HTML(value='Evaluation'), FloatProgress(value=0.0, max=214.0), HTML(value='')))"
      ]
     },
     "metadata": {},
     "output_type": "display_data"
    },
    {
     "name": "stdout",
     "output_type": "stream",
     "text": [
      "\n",
      "{'eval_loss': 0.09437631462726012, 'eval_acc': 0.9625402399765877, 'eval_f1': 0.9623828666178491, 'eval_acc_and_f1': 0.9624615532972184, 'eval_mcc': 0.946245155252108, 'epoch': 14.248704663212436, 'step': 2750}\n",
      "{'loss': 0.112802734375, 'learning_rate': 1.4054404145077721e-05, 'epoch': 14.378238341968911, 'step': 2775}\n",
      "{'loss': 0.1399853515625, 'learning_rate': 1.3730569948186529e-05, 'epoch': 14.507772020725389, 'step': 2800}\n",
      "{'loss': 0.120517578125, 'learning_rate': 1.3406735751295338e-05, 'epoch': 14.637305699481866, 'step': 2825}\n",
      "{'loss': 0.1113818359375, 'learning_rate': 1.3082901554404146e-05, 'epoch': 14.766839378238341, 'step': 2850}\n",
      "{'loss': 0.1295458984375, 'learning_rate': 1.2759067357512955e-05, 'epoch': 14.896373056994818, 'step': 2875}\n",
      "\n"
     ]
    },
    {
     "data": {
      "application/vnd.jupyter.widget-view+json": {
       "model_id": "94d4e3de047e478c8c52f7d5434f76b3",
       "version_major": 2,
       "version_minor": 0
      },
      "text/plain": [
       "HBox(children=(HTML(value='Iteration'), FloatProgress(value=0.0, max=193.0), HTML(value='')))"
      ]
     },
     "metadata": {},
     "output_type": "display_data"
    },
    {
     "name": "stdout",
     "output_type": "stream",
     "text": [
      "{'loss': 0.1136376953125, 'learning_rate': 1.2435233160621763e-05, 'epoch': 15.025906735751295, 'step': 2900}\n",
      "{'loss': 0.131552734375, 'learning_rate': 1.211139896373057e-05, 'epoch': 15.155440414507773, 'step': 2925}\n",
      "{'loss': 0.1014404296875, 'learning_rate': 1.1787564766839378e-05, 'epoch': 15.284974093264248, 'step': 2950}\n",
      "{'loss': 0.086689453125, 'learning_rate': 1.1463730569948188e-05, 'epoch': 15.414507772020725, 'step': 2975}\n",
      "{'loss': 0.10732421875, 'learning_rate': 1.1139896373056995e-05, 'epoch': 15.544041450777202, 'step': 3000}\n"
     ]
    },
    {
     "data": {
      "application/vnd.jupyter.widget-view+json": {
       "model_id": "3201bf58f1bf42468770ff3e16500686",
       "version_major": 2,
       "version_minor": 0
      },
      "text/plain": [
       "HBox(children=(HTML(value='Evaluation'), FloatProgress(value=0.0, max=214.0), HTML(value='')))"
      ]
     },
     "metadata": {},
     "output_type": "display_data"
    },
    {
     "name": "stderr",
     "output_type": "stream",
     "text": [
      "IOPub message rate exceeded.\n",
      "The notebook server will temporarily stop sending output\n",
      "to the client in order to avoid crashing it.\n",
      "To change this limit, set the config variable\n",
      "`--NotebookApp.iopub_msg_rate_limit`.\n",
      "\n",
      "Current values:\n",
      "NotebookApp.iopub_msg_rate_limit=1000.0 (msgs/sec)\n",
      "NotebookApp.rate_limit_window=3.0 (secs)\n",
      "\n"
     ]
    },
    {
     "name": "stdout",
     "output_type": "stream",
     "text": [
      "{'loss': 0.13017578125, 'learning_rate': 8.22538860103627e-06, 'epoch': 16.70984455958549, 'step': 3225}\n",
      "{'loss': 0.090078125, 'learning_rate': 7.901554404145079e-06, 'epoch': 16.83937823834197, 'step': 3250}\n"
     ]
    },
    {
     "data": {
      "application/vnd.jupyter.widget-view+json": {
       "model_id": "dc8f43719e5549dca55989aa43f8da39",
       "version_major": 2,
       "version_minor": 0
      },
      "text/plain": [
       "HBox(children=(HTML(value='Evaluation'), FloatProgress(value=0.0, max=214.0), HTML(value='')))"
      ]
     },
     "metadata": {},
     "output_type": "display_data"
    },
    {
     "name": "stdout",
     "output_type": "stream",
     "text": [
      "\n",
      "{'eval_loss': 0.08367527191676276, 'eval_acc': 0.9692712906057945, 'eval_f1': 0.9691987107319959, 'eval_acc_and_f1': 0.9692350006688952, 'eval_mcc': 0.9557588926538138, 'epoch': 16.83937823834197, 'step': 3250}\n",
      "{'loss': 0.107685546875, 'learning_rate': 7.577720207253887e-06, 'epoch': 16.968911917098445, 'step': 3275}\n",
      "\n"
     ]
    },
    {
     "data": {
      "application/vnd.jupyter.widget-view+json": {
       "model_id": "152b09c45ba64f82950a793a4a407533",
       "version_major": 2,
       "version_minor": 0
      },
      "text/plain": [
       "HBox(children=(HTML(value='Iteration'), FloatProgress(value=0.0, max=193.0), HTML(value='')))"
      ]
     },
     "metadata": {},
     "output_type": "display_data"
    },
    {
     "name": "stdout",
     "output_type": "stream",
     "text": [
      "{'loss': 0.095205078125, 'learning_rate': 7.253886010362694e-06, 'epoch': 17.098445595854923, 'step': 3300}\n",
      "{'loss': 0.091728515625, 'learning_rate': 6.930051813471503e-06, 'epoch': 17.2279792746114, 'step': 3325}\n",
      "{'loss': 0.0918603515625, 'learning_rate': 6.6062176165803115e-06, 'epoch': 17.357512953367877, 'step': 3350}\n",
      "{'loss': 0.1035107421875, 'learning_rate': 6.282383419689119e-06, 'epoch': 17.487046632124354, 'step': 3375}\n",
      "{'loss': 0.101865234375, 'learning_rate': 5.958549222797928e-06, 'epoch': 17.616580310880828, 'step': 3400}\n",
      "{'loss': 0.079228515625, 'learning_rate': 5.634715025906736e-06, 'epoch': 17.746113989637305, 'step': 3425}\n",
      "{'loss': 0.106396484375, 'learning_rate': 5.310880829015545e-06, 'epoch': 17.875647668393782, 'step': 3450}\n",
      "\n"
     ]
    },
    {
     "data": {
      "application/vnd.jupyter.widget-view+json": {
       "model_id": "9b248df3f0a84415bceeaf6dfa183b9f",
       "version_major": 2,
       "version_minor": 0
      },
      "text/plain": [
       "HBox(children=(HTML(value='Iteration'), FloatProgress(value=0.0, max=193.0), HTML(value='')))"
      ]
     },
     "metadata": {},
     "output_type": "display_data"
    },
    {
     "name": "stdout",
     "output_type": "stream",
     "text": [
      "{'loss': 0.101064453125, 'learning_rate': 4.9870466321243525e-06, 'epoch': 18.00518134715026, 'step': 3475}\n",
      "{'loss': 0.0868603515625, 'learning_rate': 4.663212435233161e-06, 'epoch': 18.134715025906736, 'step': 3500}\n"
     ]
    },
    {
     "data": {
      "application/vnd.jupyter.widget-view+json": {
       "model_id": "17a64a47e23f44498069df16d1020503",
       "version_major": 2,
       "version_minor": 0
      },
      "text/plain": [
       "HBox(children=(HTML(value='Evaluation'), FloatProgress(value=0.0, max=214.0), HTML(value='')))"
      ]
     },
     "metadata": {},
     "output_type": "display_data"
    },
    {
     "name": "stdout",
     "output_type": "stream",
     "text": [
      "\n",
      "{'eval_loss': 0.08178338511537064, 'eval_acc': 0.971027216856892, 'eval_f1': 0.9710071521734951, 'eval_acc_and_f1': 0.9710171845151936, 'eval_mcc': 0.958109425351346, 'epoch': 18.134715025906736, 'step': 3500}\n",
      "{'loss': 0.1038818359375, 'learning_rate': 4.33937823834197e-06, 'epoch': 18.264248704663213, 'step': 3525}\n",
      "{'loss': 0.0922705078125, 'learning_rate': 4.015544041450777e-06, 'epoch': 18.39378238341969, 'step': 3550}\n",
      "{'loss': 0.09341796875, 'learning_rate': 3.6917098445595854e-06, 'epoch': 18.523316062176164, 'step': 3575}\n",
      "{'loss': 0.082939453125, 'learning_rate': 3.367875647668394e-06, 'epoch': 18.65284974093264, 'step': 3600}\n",
      "{'loss': 0.10423828125, 'learning_rate': 3.044041450777202e-06, 'epoch': 18.78238341968912, 'step': 3625}\n",
      "{'loss': 0.08978515625, 'learning_rate': 2.7202072538860106e-06, 'epoch': 18.911917098445596, 'step': 3650}\n",
      "\n"
     ]
    },
    {
     "data": {
      "application/vnd.jupyter.widget-view+json": {
       "model_id": "d0f9fbec5dda4b2cb848a025e29690d3",
       "version_major": 2,
       "version_minor": 0
      },
      "text/plain": [
       "HBox(children=(HTML(value='Iteration'), FloatProgress(value=0.0, max=193.0), HTML(value='')))"
      ]
     },
     "metadata": {},
     "output_type": "display_data"
    },
    {
     "name": "stdout",
     "output_type": "stream",
     "text": [
      "{'loss': 0.1018359375, 'learning_rate': 2.3963730569948187e-06, 'epoch': 19.041450777202073, 'step': 3675}\n",
      "{'loss': 0.060986328125, 'learning_rate': 2.0725388601036273e-06, 'epoch': 19.17098445595855, 'step': 3700}\n",
      "{'loss': 0.0896337890625, 'learning_rate': 1.7487046632124352e-06, 'epoch': 19.300518134715027, 'step': 3725}\n",
      "{'loss': 0.090400390625, 'learning_rate': 1.4248704663212437e-06, 'epoch': 19.430051813471504, 'step': 3750}\n"
     ]
    },
    {
     "data": {
      "application/vnd.jupyter.widget-view+json": {
       "model_id": "429f6bb5e80f47ff9f964fa1e23a9bd6",
       "version_major": 2,
       "version_minor": 0
      },
      "text/plain": [
       "HBox(children=(HTML(value='Evaluation'), FloatProgress(value=0.0, max=214.0), HTML(value='')))"
      ]
     },
     "metadata": {},
     "output_type": "display_data"
    },
    {
     "name": "stdout",
     "output_type": "stream",
     "text": [
      "\n",
      "{'eval_loss': 0.07844798672205136, 'eval_acc': 0.9721978343576236, 'eval_f1': 0.9721372771557468, 'eval_acc_and_f1': 0.9721675557566852, 'eval_mcc': 0.9598868526662633, 'epoch': 19.430051813471504, 'step': 3750}\n",
      "{'loss': 0.0834716796875, 'learning_rate': 1.1010362694300518e-06, 'epoch': 19.559585492227978, 'step': 3775}\n",
      "{'loss': 0.08548828125, 'learning_rate': 7.772020725388602e-07, 'epoch': 19.689119170984455, 'step': 3800}\n",
      "{'loss': 0.1129638671875, 'learning_rate': 4.533678756476684e-07, 'epoch': 19.818652849740932, 'step': 3825}\n",
      "{'loss': 0.0868701171875, 'learning_rate': 1.295336787564767e-07, 'epoch': 19.94818652849741, 'step': 3850}\n",
      "\n",
      "\n",
      "CPU times: user 1h 10min 6s, sys: 26min 24s, total: 1h 36min 31s\n",
      "Wall time: 57min 15s\n"
     ]
    },
    {
     "data": {
      "text/plain": [
       "TrainOutput(global_step=3860, training_loss=0.3605542118685233)"
      ]
     },
     "execution_count": 54,
     "metadata": {},
     "output_type": "execute_result"
    }
   ],
   "source": [
    "%%time\n",
    "trainer.train()"
   ]
  },
  {
   "cell_type": "code",
   "execution_count": 55,
   "metadata": {},
   "outputs": [
    {
     "data": {
      "text/plain": [
       "BertWithTabular(\n",
       "  (bert): BertModel(\n",
       "    (embeddings): BertEmbeddings(\n",
       "      (word_embeddings): Embedding(30522, 768, padding_idx=0)\n",
       "      (position_embeddings): Embedding(512, 768)\n",
       "      (token_type_embeddings): Embedding(2, 768)\n",
       "      (LayerNorm): LayerNorm((768,), eps=1e-12, elementwise_affine=True)\n",
       "      (dropout): Dropout(p=0.1, inplace=False)\n",
       "    )\n",
       "    (encoder): BertEncoder(\n",
       "      (layer): ModuleList(\n",
       "        (0): BertLayer(\n",
       "          (attention): BertAttention(\n",
       "            (self): BertSelfAttention(\n",
       "              (query): Linear(in_features=768, out_features=768, bias=True)\n",
       "              (key): Linear(in_features=768, out_features=768, bias=True)\n",
       "              (value): Linear(in_features=768, out_features=768, bias=True)\n",
       "              (dropout): Dropout(p=0.1, inplace=False)\n",
       "            )\n",
       "            (output): BertSelfOutput(\n",
       "              (dense): Linear(in_features=768, out_features=768, bias=True)\n",
       "              (LayerNorm): LayerNorm((768,), eps=1e-12, elementwise_affine=True)\n",
       "              (dropout): Dropout(p=0.1, inplace=False)\n",
       "            )\n",
       "          )\n",
       "          (intermediate): BertIntermediate(\n",
       "            (dense): Linear(in_features=768, out_features=3072, bias=True)\n",
       "          )\n",
       "          (output): BertOutput(\n",
       "            (dense): Linear(in_features=3072, out_features=768, bias=True)\n",
       "            (LayerNorm): LayerNorm((768,), eps=1e-12, elementwise_affine=True)\n",
       "            (dropout): Dropout(p=0.1, inplace=False)\n",
       "          )\n",
       "        )\n",
       "        (1): BertLayer(\n",
       "          (attention): BertAttention(\n",
       "            (self): BertSelfAttention(\n",
       "              (query): Linear(in_features=768, out_features=768, bias=True)\n",
       "              (key): Linear(in_features=768, out_features=768, bias=True)\n",
       "              (value): Linear(in_features=768, out_features=768, bias=True)\n",
       "              (dropout): Dropout(p=0.1, inplace=False)\n",
       "            )\n",
       "            (output): BertSelfOutput(\n",
       "              (dense): Linear(in_features=768, out_features=768, bias=True)\n",
       "              (LayerNorm): LayerNorm((768,), eps=1e-12, elementwise_affine=True)\n",
       "              (dropout): Dropout(p=0.1, inplace=False)\n",
       "            )\n",
       "          )\n",
       "          (intermediate): BertIntermediate(\n",
       "            (dense): Linear(in_features=768, out_features=3072, bias=True)\n",
       "          )\n",
       "          (output): BertOutput(\n",
       "            (dense): Linear(in_features=3072, out_features=768, bias=True)\n",
       "            (LayerNorm): LayerNorm((768,), eps=1e-12, elementwise_affine=True)\n",
       "            (dropout): Dropout(p=0.1, inplace=False)\n",
       "          )\n",
       "        )\n",
       "        (2): BertLayer(\n",
       "          (attention): BertAttention(\n",
       "            (self): BertSelfAttention(\n",
       "              (query): Linear(in_features=768, out_features=768, bias=True)\n",
       "              (key): Linear(in_features=768, out_features=768, bias=True)\n",
       "              (value): Linear(in_features=768, out_features=768, bias=True)\n",
       "              (dropout): Dropout(p=0.1, inplace=False)\n",
       "            )\n",
       "            (output): BertSelfOutput(\n",
       "              (dense): Linear(in_features=768, out_features=768, bias=True)\n",
       "              (LayerNorm): LayerNorm((768,), eps=1e-12, elementwise_affine=True)\n",
       "              (dropout): Dropout(p=0.1, inplace=False)\n",
       "            )\n",
       "          )\n",
       "          (intermediate): BertIntermediate(\n",
       "            (dense): Linear(in_features=768, out_features=3072, bias=True)\n",
       "          )\n",
       "          (output): BertOutput(\n",
       "            (dense): Linear(in_features=3072, out_features=768, bias=True)\n",
       "            (LayerNorm): LayerNorm((768,), eps=1e-12, elementwise_affine=True)\n",
       "            (dropout): Dropout(p=0.1, inplace=False)\n",
       "          )\n",
       "        )\n",
       "        (3): BertLayer(\n",
       "          (attention): BertAttention(\n",
       "            (self): BertSelfAttention(\n",
       "              (query): Linear(in_features=768, out_features=768, bias=True)\n",
       "              (key): Linear(in_features=768, out_features=768, bias=True)\n",
       "              (value): Linear(in_features=768, out_features=768, bias=True)\n",
       "              (dropout): Dropout(p=0.1, inplace=False)\n",
       "            )\n",
       "            (output): BertSelfOutput(\n",
       "              (dense): Linear(in_features=768, out_features=768, bias=True)\n",
       "              (LayerNorm): LayerNorm((768,), eps=1e-12, elementwise_affine=True)\n",
       "              (dropout): Dropout(p=0.1, inplace=False)\n",
       "            )\n",
       "          )\n",
       "          (intermediate): BertIntermediate(\n",
       "            (dense): Linear(in_features=768, out_features=3072, bias=True)\n",
       "          )\n",
       "          (output): BertOutput(\n",
       "            (dense): Linear(in_features=3072, out_features=768, bias=True)\n",
       "            (LayerNorm): LayerNorm((768,), eps=1e-12, elementwise_affine=True)\n",
       "            (dropout): Dropout(p=0.1, inplace=False)\n",
       "          )\n",
       "        )\n",
       "        (4): BertLayer(\n",
       "          (attention): BertAttention(\n",
       "            (self): BertSelfAttention(\n",
       "              (query): Linear(in_features=768, out_features=768, bias=True)\n",
       "              (key): Linear(in_features=768, out_features=768, bias=True)\n",
       "              (value): Linear(in_features=768, out_features=768, bias=True)\n",
       "              (dropout): Dropout(p=0.1, inplace=False)\n",
       "            )\n",
       "            (output): BertSelfOutput(\n",
       "              (dense): Linear(in_features=768, out_features=768, bias=True)\n",
       "              (LayerNorm): LayerNorm((768,), eps=1e-12, elementwise_affine=True)\n",
       "              (dropout): Dropout(p=0.1, inplace=False)\n",
       "            )\n",
       "          )\n",
       "          (intermediate): BertIntermediate(\n",
       "            (dense): Linear(in_features=768, out_features=3072, bias=True)\n",
       "          )\n",
       "          (output): BertOutput(\n",
       "            (dense): Linear(in_features=3072, out_features=768, bias=True)\n",
       "            (LayerNorm): LayerNorm((768,), eps=1e-12, elementwise_affine=True)\n",
       "            (dropout): Dropout(p=0.1, inplace=False)\n",
       "          )\n",
       "        )\n",
       "        (5): BertLayer(\n",
       "          (attention): BertAttention(\n",
       "            (self): BertSelfAttention(\n",
       "              (query): Linear(in_features=768, out_features=768, bias=True)\n",
       "              (key): Linear(in_features=768, out_features=768, bias=True)\n",
       "              (value): Linear(in_features=768, out_features=768, bias=True)\n",
       "              (dropout): Dropout(p=0.1, inplace=False)\n",
       "            )\n",
       "            (output): BertSelfOutput(\n",
       "              (dense): Linear(in_features=768, out_features=768, bias=True)\n",
       "              (LayerNorm): LayerNorm((768,), eps=1e-12, elementwise_affine=True)\n",
       "              (dropout): Dropout(p=0.1, inplace=False)\n",
       "            )\n",
       "          )\n",
       "          (intermediate): BertIntermediate(\n",
       "            (dense): Linear(in_features=768, out_features=3072, bias=True)\n",
       "          )\n",
       "          (output): BertOutput(\n",
       "            (dense): Linear(in_features=3072, out_features=768, bias=True)\n",
       "            (LayerNorm): LayerNorm((768,), eps=1e-12, elementwise_affine=True)\n",
       "            (dropout): Dropout(p=0.1, inplace=False)\n",
       "          )\n",
       "        )\n",
       "        (6): BertLayer(\n",
       "          (attention): BertAttention(\n",
       "            (self): BertSelfAttention(\n",
       "              (query): Linear(in_features=768, out_features=768, bias=True)\n",
       "              (key): Linear(in_features=768, out_features=768, bias=True)\n",
       "              (value): Linear(in_features=768, out_features=768, bias=True)\n",
       "              (dropout): Dropout(p=0.1, inplace=False)\n",
       "            )\n",
       "            (output): BertSelfOutput(\n",
       "              (dense): Linear(in_features=768, out_features=768, bias=True)\n",
       "              (LayerNorm): LayerNorm((768,), eps=1e-12, elementwise_affine=True)\n",
       "              (dropout): Dropout(p=0.1, inplace=False)\n",
       "            )\n",
       "          )\n",
       "          (intermediate): BertIntermediate(\n",
       "            (dense): Linear(in_features=768, out_features=3072, bias=True)\n",
       "          )\n",
       "          (output): BertOutput(\n",
       "            (dense): Linear(in_features=3072, out_features=768, bias=True)\n",
       "            (LayerNorm): LayerNorm((768,), eps=1e-12, elementwise_affine=True)\n",
       "            (dropout): Dropout(p=0.1, inplace=False)\n",
       "          )\n",
       "        )\n",
       "        (7): BertLayer(\n",
       "          (attention): BertAttention(\n",
       "            (self): BertSelfAttention(\n",
       "              (query): Linear(in_features=768, out_features=768, bias=True)\n",
       "              (key): Linear(in_features=768, out_features=768, bias=True)\n",
       "              (value): Linear(in_features=768, out_features=768, bias=True)\n",
       "              (dropout): Dropout(p=0.1, inplace=False)\n",
       "            )\n",
       "            (output): BertSelfOutput(\n",
       "              (dense): Linear(in_features=768, out_features=768, bias=True)\n",
       "              (LayerNorm): LayerNorm((768,), eps=1e-12, elementwise_affine=True)\n",
       "              (dropout): Dropout(p=0.1, inplace=False)\n",
       "            )\n",
       "          )\n",
       "          (intermediate): BertIntermediate(\n",
       "            (dense): Linear(in_features=768, out_features=3072, bias=True)\n",
       "          )\n",
       "          (output): BertOutput(\n",
       "            (dense): Linear(in_features=3072, out_features=768, bias=True)\n",
       "            (LayerNorm): LayerNorm((768,), eps=1e-12, elementwise_affine=True)\n",
       "            (dropout): Dropout(p=0.1, inplace=False)\n",
       "          )\n",
       "        )\n",
       "        (8): BertLayer(\n",
       "          (attention): BertAttention(\n",
       "            (self): BertSelfAttention(\n",
       "              (query): Linear(in_features=768, out_features=768, bias=True)\n",
       "              (key): Linear(in_features=768, out_features=768, bias=True)\n",
       "              (value): Linear(in_features=768, out_features=768, bias=True)\n",
       "              (dropout): Dropout(p=0.1, inplace=False)\n",
       "            )\n",
       "            (output): BertSelfOutput(\n",
       "              (dense): Linear(in_features=768, out_features=768, bias=True)\n",
       "              (LayerNorm): LayerNorm((768,), eps=1e-12, elementwise_affine=True)\n",
       "              (dropout): Dropout(p=0.1, inplace=False)\n",
       "            )\n",
       "          )\n",
       "          (intermediate): BertIntermediate(\n",
       "            (dense): Linear(in_features=768, out_features=3072, bias=True)\n",
       "          )\n",
       "          (output): BertOutput(\n",
       "            (dense): Linear(in_features=3072, out_features=768, bias=True)\n",
       "            (LayerNorm): LayerNorm((768,), eps=1e-12, elementwise_affine=True)\n",
       "            (dropout): Dropout(p=0.1, inplace=False)\n",
       "          )\n",
       "        )\n",
       "        (9): BertLayer(\n",
       "          (attention): BertAttention(\n",
       "            (self): BertSelfAttention(\n",
       "              (query): Linear(in_features=768, out_features=768, bias=True)\n",
       "              (key): Linear(in_features=768, out_features=768, bias=True)\n",
       "              (value): Linear(in_features=768, out_features=768, bias=True)\n",
       "              (dropout): Dropout(p=0.1, inplace=False)\n",
       "            )\n",
       "            (output): BertSelfOutput(\n",
       "              (dense): Linear(in_features=768, out_features=768, bias=True)\n",
       "              (LayerNorm): LayerNorm((768,), eps=1e-12, elementwise_affine=True)\n",
       "              (dropout): Dropout(p=0.1, inplace=False)\n",
       "            )\n",
       "          )\n",
       "          (intermediate): BertIntermediate(\n",
       "            (dense): Linear(in_features=768, out_features=3072, bias=True)\n",
       "          )\n",
       "          (output): BertOutput(\n",
       "            (dense): Linear(in_features=3072, out_features=768, bias=True)\n",
       "            (LayerNorm): LayerNorm((768,), eps=1e-12, elementwise_affine=True)\n",
       "            (dropout): Dropout(p=0.1, inplace=False)\n",
       "          )\n",
       "        )\n",
       "        (10): BertLayer(\n",
       "          (attention): BertAttention(\n",
       "            (self): BertSelfAttention(\n",
       "              (query): Linear(in_features=768, out_features=768, bias=True)\n",
       "              (key): Linear(in_features=768, out_features=768, bias=True)\n",
       "              (value): Linear(in_features=768, out_features=768, bias=True)\n",
       "              (dropout): Dropout(p=0.1, inplace=False)\n",
       "            )\n",
       "            (output): BertSelfOutput(\n",
       "              (dense): Linear(in_features=768, out_features=768, bias=True)\n",
       "              (LayerNorm): LayerNorm((768,), eps=1e-12, elementwise_affine=True)\n",
       "              (dropout): Dropout(p=0.1, inplace=False)\n",
       "            )\n",
       "          )\n",
       "          (intermediate): BertIntermediate(\n",
       "            (dense): Linear(in_features=768, out_features=3072, bias=True)\n",
       "          )\n",
       "          (output): BertOutput(\n",
       "            (dense): Linear(in_features=3072, out_features=768, bias=True)\n",
       "            (LayerNorm): LayerNorm((768,), eps=1e-12, elementwise_affine=True)\n",
       "            (dropout): Dropout(p=0.1, inplace=False)\n",
       "          )\n",
       "        )\n",
       "        (11): BertLayer(\n",
       "          (attention): BertAttention(\n",
       "            (self): BertSelfAttention(\n",
       "              (query): Linear(in_features=768, out_features=768, bias=True)\n",
       "              (key): Linear(in_features=768, out_features=768, bias=True)\n",
       "              (value): Linear(in_features=768, out_features=768, bias=True)\n",
       "              (dropout): Dropout(p=0.1, inplace=False)\n",
       "            )\n",
       "            (output): BertSelfOutput(\n",
       "              (dense): Linear(in_features=768, out_features=768, bias=True)\n",
       "              (LayerNorm): LayerNorm((768,), eps=1e-12, elementwise_affine=True)\n",
       "              (dropout): Dropout(p=0.1, inplace=False)\n",
       "            )\n",
       "          )\n",
       "          (intermediate): BertIntermediate(\n",
       "            (dense): Linear(in_features=768, out_features=3072, bias=True)\n",
       "          )\n",
       "          (output): BertOutput(\n",
       "            (dense): Linear(in_features=3072, out_features=768, bias=True)\n",
       "            (LayerNorm): LayerNorm((768,), eps=1e-12, elementwise_affine=True)\n",
       "            (dropout): Dropout(p=0.1, inplace=False)\n",
       "          )\n",
       "        )\n",
       "      )\n",
       "    )\n",
       "    (pooler): BertPooler(\n",
       "      (dense): Linear(in_features=768, out_features=768, bias=True)\n",
       "      (activation): Tanh()\n",
       "    )\n",
       "  )\n",
       "  (dropout): Dropout(p=0.1, inplace=False)\n",
       "  (classifier): Linear(in_features=768, out_features=2, bias=True)\n",
       "  (tabular_combiner): TabularFeatCombiner(\n",
       "    (num_bn): BatchNorm1d(6, eps=1e-05, momentum=0.1, affine=True, track_running_stats=True)\n",
       "    (act_func): ReLU()\n",
       "    (g_cat_layer): Linear(in_features=1319, out_features=768, bias=True)\n",
       "    (dropout_cat): Dropout(p=0.1, inplace=False)\n",
       "    (h_cat_layer): Linear(in_features=551, out_features=768, bias=False)\n",
       "    (g_num_layer): Linear(in_features=774, out_features=768, bias=True)\n",
       "    (dropout_num): Dropout(p=0.1, inplace=False)\n",
       "    (h_num_layer): Linear(in_features=6, out_features=768, bias=False)\n",
       "    (layer_norm): LayerNorm((768,), eps=1e-05, elementwise_affine=True)\n",
       "  )\n",
       "  (tabular_classifier): Linear(in_features=768, out_features=4, bias=True)\n",
       ")"
      ]
     },
     "execution_count": 55,
     "metadata": {},
     "output_type": "execute_result"
    }
   ],
   "source": [
    "torch.save(model.state_dict(), 'best_multimodal_model_state.bin')\n",
    "model.eval()"
   ]
  },
  {
   "cell_type": "markdown",
   "metadata": {
    "id": "U3HZb3NWFtFf"
   },
   "source": [
    "## Evaluation\n",
    "\n",
    "So how good is our model? Let's start by calculating the accuracy on the test data:"
   ]
  },
  {
   "cell_type": "code",
   "execution_count": 57,
   "metadata": {
    "scrolled": true
   },
   "outputs": [
    {
     "data": {
      "application/vnd.jupyter.widget-view+json": {
       "model_id": "9a3449d2eb4b4dc78cf4687448a179f9",
       "version_major": 2,
       "version_minor": 0
      },
      "text/plain": [
       "HBox(children=(HTML(value='Prediction'), FloatProgress(value=0.0, max=214.0), HTML(value='')))"
      ]
     },
     "metadata": {},
     "output_type": "display_data"
    },
    {
     "name": "stderr",
     "output_type": "stream",
     "text": [
      "/state/partition1/llgrid/pkg/anaconda/anaconda3-2021a/lib/python3.8/site-packages/torch/nn/parallel/_functions.py:65: UserWarning: Was asked to gather along dimension 0, but all input tensors were scalars; will instead unsqueeze and return a vector.\n",
      "  warnings.warn('Was asked to gather along dimension 0, but all '\n"
     ]
    },
    {
     "name": "stdout",
     "output_type": "stream",
     "text": [
      "\n",
      "CPU times: user 29 s, sys: 8.34 s, total: 37.4 s\n",
      "Wall time: 34.8 s\n"
     ]
    }
   ],
   "source": [
    "%%time\n",
    "output = trainer.predict(test_dataset)"
   ]
  },
  {
   "cell_type": "code",
   "execution_count": 61,
   "metadata": {},
   "outputs": [
    {
     "data": {
      "text/plain": [
       "array([2, 0, 2, ..., 0, 0, 2])"
      ]
     },
     "execution_count": 61,
     "metadata": {},
     "output_type": "execute_result"
    }
   ],
   "source": [
    "test_dataset.labels"
   ]
  },
  {
   "cell_type": "code",
   "execution_count": 59,
   "metadata": {},
   "outputs": [],
   "source": [
    "best_predictions = output.predictions"
   ]
  },
  {
   "cell_type": "code",
   "execution_count": 63,
   "metadata": {},
   "outputs": [
    {
     "data": {
      "text/plain": [
       "array([[ 4.2196665 , -4.417337  ,  0.21525875,  1.3477846 ],\n",
       "       [ 5.4384613 ,  1.0589525 , -3.375457  , -3.4238255 ],\n",
       "       [ 2.7913105 , -4.1859922 ,  5.3319745 , -3.644537  ],\n",
       "       ...,\n",
       "       [ 8.368958  , -2.649276  , -2.1181278 , -2.9907756 ],\n",
       "       [ 8.224091  , -3.5231922 , -1.4661903 , -2.4355128 ],\n",
       "       [ 2.11276   , -2.4767573 ,  2.5345497 , -1.3108507 ]],\n",
       "      dtype=float32)"
      ]
     },
     "execution_count": 63,
     "metadata": {},
     "output_type": "execute_result"
    }
   ],
   "source": [
    "best_predictions"
   ]
  },
  {
   "cell_type": "code",
   "execution_count": null,
   "metadata": {},
   "outputs": [],
   "source": []
  },
  {
   "cell_type": "code",
   "execution_count": 64,
   "metadata": {},
   "outputs": [
    {
     "name": "stdout",
     "output_type": "stream",
     "text": [
      "              precision    recall  f1-score   support\n",
      "\n",
      "           0       0.85      0.92      0.88      1501\n",
      "           1       0.86      0.86      0.86       760\n",
      "           2       0.85      0.76      0.81       693\n",
      "           3       0.88      0.82      0.85       463\n",
      "\n",
      "    accuracy                           0.86      3417\n",
      "   macro avg       0.86      0.84      0.85      3417\n",
      "weighted avg       0.86      0.86      0.86      3417\n",
      "\n"
     ]
    }
   ],
   "source": [
    "print(classification_report(test_dataset.labels, np.argmax(output.predictions, axis=1)))"
   ]
  },
  {
   "cell_type": "markdown",
   "metadata": {
    "id": "dkbnBTI7kd_y"
   },
   "source": [
    "This is similar to the evaluation function, except that we're storing the text of the reviews and the predicted probabilities (by applying the softmax on the model outputs):"
   ]
  },
  {
   "cell_type": "markdown",
   "metadata": {
    "id": "Wf39tauBa2V2"
   },
   "source": [
    "## References\n",
    "\n",
    "- [BERT: Pre-training of Deep Bidirectional Transformers for Language Understanding](https://arxiv.org/abs/1810.04805)\n",
    "- [L11 Language Models - Alec Radford (OpenAI)](https://www.youtube.com/watch?v=BnpB3GrpsfM)\n",
    "- [The Illustrated BERT, ELMo, and co.](https://jalammar.github.io/illustrated-bert/)\n",
    "- [BERT Fine-Tuning Tutorial with PyTorch](https://mccormickml.com/2019/07/22/BERT-fine-tuning/)\n",
    "- [How to Fine-Tune BERT for Text Classification?](https://arxiv.org/pdf/1905.05583.pdf)\n",
    "- [Huggingface Transformers](https://huggingface.co/transformers/)\n",
    "- [BERT Explained: State of the art language model for NLP](https://towardsdatascience.com/bert-explained-state-of-the-art-language-model-for-nlp-f8b21a9b6270)"
   ]
  }
 ],
 "metadata": {
  "accelerator": "GPU",
  "colab": {
   "collapsed_sections": [],
   "name": "08.sentiment-analysis-with-bert.ipynb",
   "provenance": []
  },
  "kernelspec": {
   "display_name": "Python 3",
   "language": "python",
   "name": "python3"
  },
  "language_info": {
   "codemirror_mode": {
    "name": "ipython",
    "version": 3
   },
   "file_extension": ".py",
   "mimetype": "text/x-python",
   "name": "python",
   "nbconvert_exporter": "python",
   "pygments_lexer": "ipython3",
   "version": "3.8.5"
  },
  "latex_envs": {
   "LaTeX_envs_menu_present": true,
   "autoclose": false,
   "autocomplete": true,
   "bibliofile": "biblio.bib",
   "cite_by": "apalike",
   "current_citInitial": 1,
   "eqLabelWithNumbers": true,
   "eqNumInitial": 1,
   "hotkeys": {
    "equation": "Ctrl-E",
    "itemize": "Ctrl-I"
   },
   "labels_anchors": false,
   "latex_user_defs": false,
   "report_style_numbering": false,
   "user_envs_cfg": false
  },
  "toc": {
   "base_numbering": 1,
   "nav_menu": {},
   "number_sections": true,
   "sideBar": true,
   "skip_h1_title": false,
   "title_cell": "Table of Contents",
   "title_sidebar": "Contents",
   "toc_cell": false,
   "toc_position": {},
   "toc_section_display": true,
   "toc_window_display": false
  },
  "varInspector": {
   "cols": {
    "lenName": 16,
    "lenType": 16,
    "lenVar": 40
   },
   "kernels_config": {
    "python": {
     "delete_cmd_postfix": "",
     "delete_cmd_prefix": "del ",
     "library": "var_list.py",
     "varRefreshCmd": "print(var_dic_list())"
    },
    "r": {
     "delete_cmd_postfix": ") ",
     "delete_cmd_prefix": "rm(",
     "library": "var_list.r",
     "varRefreshCmd": "cat(var_dic_list()) "
    }
   },
   "types_to_exclude": [
    "module",
    "function",
    "builtin_function_or_method",
    "instance",
    "_Feature"
   ],
   "window_display": false
  }
 },
 "nbformat": 4,
 "nbformat_minor": 1
}
